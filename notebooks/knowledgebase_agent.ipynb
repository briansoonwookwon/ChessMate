{
 "cells": [
  {
   "cell_type": "code",
   "execution_count": 1,
   "id": "645b1842-30c6-422b-b41e-08bb9f9aeec9",
   "metadata": {},
   "outputs": [],
   "source": [
    "import chess\n",
    "import chess.pgn\n",
    "import requests\n",
    "import io\n",
    "import json\n",
    "from langchain_core.tools import tool\n",
    "from langgraph.prebuilt import create_react_agent\n",
    "from langchain_core.messages import HumanMessage"
   ]
  },
  {
   "cell_type": "code",
   "execution_count": 2,
   "id": "412bf416-e4b1-4d69-864c-7d260f631967",
   "metadata": {},
   "outputs": [],
   "source": [
    "%run ../bedrock_setup.py"
   ]
  },
  {
   "cell_type": "code",
   "execution_count": 3,
   "id": "a99774c9-c84e-4666-b878-34e4753a5a94",
   "metadata": {},
   "outputs": [
    {
     "name": "stderr",
     "output_type": "stream",
     "text": [
      "/tmp/ipykernel_17736/2302536543.py:7: LangChainDeprecationWarning: The class `HuggingFaceBgeEmbeddings` was deprecated in LangChain 0.2.2 and will be removed in 1.0. An updated version of the class exists in the :class:`~langchain-huggingface package and should be used instead. To use it run `pip install -U :class:`~langchain-huggingface` and import as `from :class:`~langchain_huggingface import HuggingFaceEmbeddings``.\n",
      "  embeddings_model = HuggingFaceBgeEmbeddings(\n",
      "/home/ec2-user/SageMaker/spring-2025-final-project-project-group-13/.venv/lib/python3.10/site-packages/tqdm/auto.py:21: TqdmWarning: IProgress not found. Please update jupyter and ipywidgets. See https://ipywidgets.readthedocs.io/en/stable/user_install.html\n",
      "  from .autonotebook import tqdm as notebook_tqdm\n"
     ]
    }
   ],
   "source": [
    "from langchain.embeddings import HuggingFaceBgeEmbeddings\n",
    "from langchain_community.vectorstores import FAISS\n",
    "\n",
    "model_name = \"sentence-transformers/all-MiniLM-L6-v2\"\n",
    "model_kwargs = {\"device\": \"cuda\"}\n",
    "encode_kwargs = {\"normalize_embeddings\": True}\n",
    "embeddings_model = HuggingFaceBgeEmbeddings(\n",
    "    model_name=model_name, model_kwargs=model_kwargs, encode_kwargs=encode_kwargs\n",
    ")\n",
    "\n",
    "vectorstore = FAISS.load_local(\"../database/knowledge_base\", embeddings_model, allow_dangerous_deserialization=True)"
   ]
  },
  {
   "cell_type": "code",
   "execution_count": 4,
   "id": "4691d5a7-f5e7-4d37-a46a-e1a338d08630",
   "metadata": {},
   "outputs": [],
   "source": [
    "from langchain.chat_models import init_chat_model\n",
    "\n",
    "model = init_chat_model(\"us.anthropic.claude-3-5-haiku-20241022-v1:0\",\n",
    "                        model_provider=\"bedrock_converse\",\n",
    "                        region_name=\"us-east-1\",\n",
    "                        client=bedrock_client)"
   ]
  },
  {
   "cell_type": "code",
   "execution_count": 5,
   "id": "440ab31e-a787-4a51-9d2a-00b9b8c9a823",
   "metadata": {},
   "outputs": [],
   "source": [
    "@tool\n",
    "def query_knowledge_base(query: str) -> str:\n",
    "    \"\"\"Get relevant information on KB based on the query\"\"\"\n",
    "    docs = vectorstore.similarity_search(query, k=10)\n",
    "    return \"\\n\\n\".join([doc.page_content for doc in docs])"
   ]
  },
  {
   "cell_type": "code",
   "execution_count": 6,
   "id": "332a64ac-7428-4b82-a910-e0f97d76a8cc",
   "metadata": {},
   "outputs": [],
   "source": [
    "tools = [query_knowledge_base]"
   ]
  },
  {
   "cell_type": "code",
   "execution_count": 7,
   "id": "b9ec658f-6f04-43bd-a911-34b0435ae493",
   "metadata": {},
   "outputs": [],
   "source": [
    "prompt = \"\"\"\n",
    "You are an intelligent agent that recommend chess moves to users.\n",
    "Follow these steps to answer user queries:\n",
    "1. Use the `query_knowledge_base` tool to get relevant information from the knowledge base based on the user query.\n",
    "\n",
    "Use a step-by-step approach to complete each query.\n",
    "\"\"\""
   ]
  },
  {
   "cell_type": "code",
   "execution_count": 8,
   "id": "1c76234c-2565-44c9-9b53-a487c235cec4",
   "metadata": {},
   "outputs": [],
   "source": [
    "agent_executor = create_react_agent(model, tools, prompt = prompt)"
   ]
  },
  {
   "cell_type": "code",
   "execution_count": 9,
   "id": "5c35669a-2fc6-44a8-bafb-962074d26266",
   "metadata": {},
   "outputs": [],
   "source": [
    "query = \"What are common opening moves?\"\n",
    "response = agent_executor.invoke({\"messages\": [HumanMessage(content=query)]})"
   ]
  },
  {
   "cell_type": "code",
   "execution_count": 10,
   "id": "54358dda-50a7-414b-a322-427d4c26aea8",
   "metadata": {},
   "outputs": [
    {
     "data": {
      "text/plain": [
       "\"Based on the knowledge base results, I'll provide an overview of common opening moves in chess:\\n\\n1. King's Pawn Opening (1.e4):\\nThis is the most common opening move for White. The move 1.e4 is followed by Black often responding with 1...e5. This leads to several classic opening variations, including:\\n- Two Knights Defense\\n- King's Gambit\\n- Open games with central pawn exchanges\\n\\n2. Queen's Pawn Opening (1.d4):\\nAnother popular first move that aims to control the center of the board. This can lead to:\\n- Various closed and semi-closed openings\\n- Different pawn structures and game strategies\\n\\nKey Principles for Opening Moves:\\n- Control the center of the board\\n- Develop pieces quickly\\n- Protect the king\\n- Create opportunities for piece coordination\\n\\nSome common first move patterns include:\\n- 1.e4 (King's Pawn)\\n- 1.d4 (Queen's Pawn)\\n- 1.c4 (English Opening)\\n- 1.Nf3 (Reti Opening)\\n\\nThe most fundamental openings typically involve:\\n- Moving central pawns (e4, d4, e5, d5)\\n- Developing knights and bishops\\n- Preparing to castle and protect the king\\n\\nFor beginners, the 1.e4 e5 opening is most recommended as it provides a straightforward way to learn basic opening principles and develop a solid understanding of chess strategy.\\n\\nWould you like me to elaborate on any of these opening moves or explain their strategic implications?\""
      ]
     },
     "execution_count": 10,
     "metadata": {},
     "output_type": "execute_result"
    }
   ],
   "source": [
    "response[\"messages\"][-1].content"
   ]
  },
  {
   "cell_type": "code",
   "execution_count": 11,
   "id": "2e90e1fa-6038-424d-84a1-8dc8200cbbc3",
   "metadata": {},
   "outputs": [],
   "source": [
    "docs = vectorstore.similarity_search(query, k=10)"
   ]
  },
  {
   "cell_type": "code",
   "execution_count": 12,
   "id": "1f8254a5-1a9e-4d8b-a698-b432028f969d",
   "metadata": {},
   "outputs": [
    {
     "data": {
      "text/plain": [
       "[Document(id='d15fbf13-7112-4af5-9dc7-cc369c7ae069', metadata={'type': 'opening-theory', 'title': 'An Opening Line For Club Players'}, page_content='five years ago, I wrote a series of articles \"Openings For Tactical Players.\" The objective was to achieve an interesting, attacking position right out of the opening. And this is something most club players love. Unfortunately, some of those openings require a certain amount of opening theory and this is something many club players hate. But fortunately, there are some openings that lead to an entertaining play and also don\\'t require almost any opening knowledge.One such opening, we discussedhere.Today, I want to talk about another opening line that could be played in your local club. Say you are playing a very solid opponent, who prefers to encounter your 1.e4 move with the French Defense. How can you get an attacking position there? Better yet, how to skip reading the opening books, checking the database and yet surprise your opening expert opponent?The Mieses variation of the French to\\xa0the rescue!Don\\'t worry if you\\'ve never heard of this variation. It is actually a nameless'),\n",
       " Document(id='b238d4b0-5f5c-4e10-99a3-2493b29c7103', metadata={'type': 'endgames', 'title': 'From the Opening into the Endgame'}, page_content='really well. Today I would like to give you an example of how to study openings while keeping in mind the resulting endgames. For some of you it might be an overwhelming task to think of endgames when you are still in the opening stage. I remember being 1900- rated and receiving advice from GM Gata Kamsky to study openings up to the endgames and then to analyze the resulting endgames. To me the idea was clear but how to implement it in training I had no idea, so it took me another 400 rating points to start working on openings as Gata suggested.Below is one of the positions that I had to study – it can result from different move orders but for now we will not pay too much attention to that but rather go straight to the first critical position.Both sides played logical moves, and white has a small edge due to more space and better development. Here, white has two moves, Qd3 or Re1. In the first game that we will look at white used the h6-pawn to mess up black’s pawn structure on the'),\n",
       " Document(id='4b059d55-d0f6-43b3-8fc2-c74091f4be53', metadata={'type': 'endgames', 'title': 'A Thin Line between Opening and Endgame'}, page_content='With the next couple of articles we will look at transitions from openings into endgames and explore the significance of endgames in opening preparation. Gata Kamsky once gave me advice on how to study openings. In addition to theory he recommended analyzing the endgames that result from the openings and looking for common patterns there. To me it sounded a bit too much as I hardly could cope with all the theoretical lines in the opening and all the plans in the resulting middlegames. However, in some openings knowing the endgames that can happen is a must. One such opening is the Sicilian Dragon. There one should know how to play endgames down an exchange or down a piece or even down a rook!Last weekend I got to play a game against fellow chess.com contributor IM Danny Rensch. The opening and middlegame was a good choice for me as I got the endgame I was striving for. After getting into the endgame I realized that I have very little knowledge of how to play an endgame down a rook for'),\n",
       " Document(id='17e13aa0-d603-444f-9e8a-0f28efd61cc0', metadata={'type': 'beginners', 'title': 'How I Learned My 1st Chess Openings'}, page_content='openings that I should never try, because they have so much nuance and theory (ah, theory!) behind them. But what I’d really forgotten was the point of the openings themselves. If you’re trying to control the center and they let you play e5, play e5. What side will they castle on? What squares are they controlling? Where do their bishops aim? All very obvious questions, but ones are easy for me to forget as I struggled to remember the sixth move of the French Winawer, searching my brain instead of the board, because I thought I should just be able to memorize it.So I stopped playing the London System all the time and started playing different things, and when I played it I tried it as an opening. Or at least, I trying. I am trying to mix it up, play different openings, remember the key is to pay attention, that the right move is the best move, not the rote one.I’m trying to remember a different list of rules:Don’t needlessly complicate the game.Figure out their best moves and your'),\n",
       " Document(id='c9a3f713-84b4-440f-b49b-c253ca40fdf0', metadata={'type': 'opening-theory', 'title': 'Picking The Correct Opening Repertoire'}, page_content='Picking the correct opening repertoireis one of the most important decisions\\xa0that a\\xa0chess player makes.There is no point starting the game with a series of moves that will lead you into a\\xa0situation that you find\\xa0uncomfortable.The aim of this article is to provide\\xa0you with some important factors to consider\\xa0when picking openings.We can all fall victim to picking a bad opening; take a look at the following game, which gave me no enjoyment at all.I chose an opening that made me feel uncomfortable, and I certainly did not enjoy the experience! I hate playing passive positions which require long defensivemaneuvers, so I should never have picked an opening which led to this type of structure. We also saw my opponent being very clever with his choice of opening moves so as to draw me into this type of position. Erwin avoided entering a Benoni structure which would have played to my strengths.How can you avoid falling into a similar\\xa0predicament?For a start, you must pick an opening that...1)'),\n",
       " Document(id='778fa413-e9da-45b9-8ed0-c536c71f8853', metadata={'type': 'beginners', 'title': 'Book Review: Winning Chess Openings'}, page_content='the rest of the book.\\xa0 I, however, advise against that strategy.\\xa0 While it’s true that the solutions section is very interesting in and of itself, and by working through it you will indeed gain much knowledge of useful openings, you would be missing much of the groundwork that would make these solutions intelligible.\\xa0 As I mentioned a little ways back, openings are not just about memorization, they are also about logic and motivation.In case you are wondering about these opening “solutions,” I let you in on a little secret:\\xa0 They are largely based on the Barcza Opening, and they fall more under the monicker of “systems” than they are about specific orders of moves.\\xa0 What I mean by this is that, in general, you play towards a certain position which defines the opening, but the order of moves to achieve that position are in part determined by the moves made your opponent.\\xa0 The big advantage to this is that there is less to memorize.\\xa0 On the other hand, you better have your wits about'),\n",
       " Document(id='703cbcca-a362-4e38-81e9-f493284beb9f', metadata={'type': 'beginners', 'title': 'Learn Chess Opening Principles'}, page_content='captures, or threats that the opponent might make. Those are the moves that are likely to get you in trouble if you don’t see them coming. Sometimes your opponent will make more than one threat, and you’ll want to find a move that defends everything, so take your time to look at multiple ideas.Phases Of The Game:Chess games typically feature three phases. The opening is when each side focuses on developing their pieces from the back rank. Once most pieces are developed we reach the middle-game, where both sides attempt to improve their positions and still have most of their pieces. If no one has won yet, the game enters an endgame where each side has just a few pieces and most likely players will try to promote a pawn and then checkmate.How do you like to play in the opening? Let us know in the comments!'),\n",
       " Document(id='3e5575dc-c0e1-47a9-98c7-5cbb8c59c602', metadata={'type': 'opening-theory', 'title': 'Study Plan For Advanced Players: The Opening!'}, page_content='chosen opening.1. Expand your Knowledge\\xa0of Common Structures and PlansAs was\\xa0introduced\\xa0in theIntermediate Study Planin task four, opening understanding is not just \"memorizing lines\" but having knowledge of typical middlegame motifs, both strategic and tactical.Read the following articles and notice the authors\\' focus on the common plans and thematic ideas in each opening:Do You Need To Study Junk Openings?byGMGregory SerperMonster Opening PreparationbyIMJeremy SilmanMonster Opening Preparation Part 2byIMJeremy SilmanKostya\\'s Blueprint: Learning Structures Part 1byFMKostya KavutskiyKostya\\'s Blueprint: Learning Structures Part 2byFMKostya KavutskiyCan You Still Specialize In An Opening?byGMBryan SmithAn Opening Line for Club PlayersbyGMGregory SerperAn Opening Line for MastersbyGMGregory SerperNext, watchIMDanny Rensch\\'scomprehensive series on the most important themes in the following structures.\\xa0If you watched any of these\\xa0videos as part of the Intermediate Strategy Plan, feel free'),\n",
       " Document(id='8316a423-ea52-46a0-a989-28cff14c4c92', metadata={'type': 'endgames', 'title': 'Endgame Virtuoso'}, page_content='detail through all the games would be ideal but here we are interested in a situation when you have only about 3-4 hours overall to dedicate to this book.As the authors go through the games they give selected diagrams where you can stop and test your skills by answering their questions. I would not pay attention to particular theme as the themes can spoil the experience. For example, if you are reading a chapter on exchanges of bishop for knight then when solving the exercises you might be biased towards the exchange. Let us look at a few selected positions chosen randomly from the book.\"The natural (and certainly also the good) move would be 20. Rfc1, in order to occupy the c-file. White finds an unconventional move which will turn out to be very useful. How does White continue?\"The g4-move is a typical idea in all kinds of endgames. In many endgames having the h5-g6 structure is beneficial for black; with g4 white prevents this set-up. G4 also paralyzes the black kingside and makes'),\n",
       " Document(id='044ad727-9476-4cd0-b0cf-bd2bfb180da9', metadata={'type': 'beginners', 'title': 'Things not to do in the opening moves'}, page_content=\"I have noticed that most\\xa0beginners\\xa0do not begin the game well. Firstly bringing the queen out in the opening moves isn't a good idea as it can result in nothing apart from the opposition developing it's pieces quicker.As you can see in the example above, black develops both knights whereas white has wasted an opportunity to develop their pieces and ends up only developing one knight.Secondly, \\xa0beginners often move their pawns forward instead of developing their pieces.Here is a simple exampleAs you can see above, white had little knowledge of the importance of \\xa0developing it's pieces therefore fell into a trap. It is\\xa0easy to see the checkmate for most, but beginners need to know to do the right thing.In the sequence below, a better (not perfect at all) opening is shown but at least there is no risk of checkmate.Now, in the sequence above black's opening move is the first move of which particular opening? please leave your answer in the comments. Please note that this is my first\")]"
      ]
     },
     "execution_count": 12,
     "metadata": {},
     "output_type": "execute_result"
    }
   ],
   "source": [
    "docs"
   ]
  },
  {
   "cell_type": "code",
   "execution_count": null,
   "id": "690e6664-0c87-418b-9b84-5ae4bce65b46",
   "metadata": {},
   "outputs": [],
   "source": []
  }
 ],
 "metadata": {
  "kernelspec": {
   "display_name": "Python (uv env)",
   "language": "python",
   "name": ".venv"
  },
  "language_info": {
   "codemirror_mode": {
    "name": "ipython",
    "version": 3
   },
   "file_extension": ".py",
   "mimetype": "text/x-python",
   "name": "python",
   "nbconvert_exporter": "python",
   "pygments_lexer": "ipython3",
   "version": "3.10.17"
  }
 },
 "nbformat": 4,
 "nbformat_minor": 5
}
