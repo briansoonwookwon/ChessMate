{
 "cells": [
  {
   "cell_type": "code",
   "execution_count": 2,
   "id": "5de550a3-5ccc-4258-918e-f12dbc31670a",
   "metadata": {},
   "outputs": [],
   "source": [
    "import requests\n",
    "import io\n",
    "import random\n",
    "import chess.pgn\n",
    "from tqdm import tqdm\n",
    "from langchain.schema import Document\n",
    "from langchain_huggingface import HuggingFaceEmbeddings\n",
    "from langchain_community.vectorstores import FAISS"
   ]
  },
  {
   "cell_type": "code",
   "execution_count": 3,
   "id": "72990a66-3673-4d6f-984d-fd75c7c92e17",
   "metadata": {},
   "outputs": [
    {
     "name": "stderr",
     "output_type": "stream",
     "text": [
      "/home/ec2-user/SageMaker/spring-2025-final-project-project-group-13/.venv/lib/python3.10/site-packages/tqdm/auto.py:21: TqdmWarning: IProgress not found. Please update jupyter and ipywidgets. See https://ipywidgets.readthedocs.io/en/stable/user_install.html\n",
      "  from .autonotebook import tqdm as notebook_tqdm\n"
     ]
    }
   ],
   "source": [
    "model_name = \"sentence-transformers/all-MiniLM-L6-v2\"\n",
    "model_kwargs = {\"device\": \"cpu\"}\n",
    "encode_kwargs = {\"normalize_embeddings\": True}\n",
    "embeddings_model = HuggingFaceEmbeddings(\n",
    "    model_name=model_name, model_kwargs=model_kwargs, encode_kwargs=encode_kwargs\n",
    ")"
   ]
  },
  {
   "cell_type": "code",
   "execution_count": 4,
   "id": "14891ebd-6d40-41a8-bfff-20a9a2869cb0",
   "metadata": {},
   "outputs": [
    {
     "name": "stdout",
     "output_type": "stream",
     "text": [
      "Processing player: Hikaru\n"
     ]
    },
    {
     "name": "stderr",
     "output_type": "stream",
     "text": [
      "                                                                                   "
     ]
    },
    {
     "name": "stdout",
     "output_type": "stream",
     "text": [
      "100000\n",
      "Building vectorstore for Hikaru\n",
      "Processing player: MagnusCarlsen\n"
     ]
    },
    {
     "name": "stderr",
     "output_type": "stream",
     "text": [
      "                                                                                       "
     ]
    },
    {
     "name": "stdout",
     "output_type": "stream",
     "text": [
      "100000\n",
      "Building vectorstore for MagnusCarlsen\n",
      "Processing player: GukeshDommaraju\n"
     ]
    },
    {
     "name": "stderr",
     "output_type": "stream",
     "text": [
      "                                                                                         "
     ]
    },
    {
     "name": "stdout",
     "output_type": "stream",
     "text": [
      "100000\n",
      "Building vectorstore for GukeshDommaraju\n",
      "Processing player: FabianoCaruana\n"
     ]
    },
    {
     "name": "stderr",
     "output_type": "stream",
     "text": [
      "                                                                                        "
     ]
    },
    {
     "name": "stdout",
     "output_type": "stream",
     "text": [
      "100000\n",
      "Building vectorstore for FabianoCaruana\n",
      "Processing player: GHANDEEVAM2003\n"
     ]
    },
    {
     "name": "stderr",
     "output_type": "stream",
     "text": [
      "                                                                                          "
     ]
    },
    {
     "name": "stdout",
     "output_type": "stream",
     "text": [
      "100000\n",
      "Building vectorstore for GHANDEEVAM2003\n"
     ]
    }
   ],
   "source": [
    "usernames = [\n",
    "    'Hikaru',\n",
    "    'MagnusCarlsen',\n",
    "    'GukeshDommaraju',\n",
    "    'FabianoCaruana',\n",
    "    'GHANDEEVAM2003'\n",
    "]\n",
    "\n",
    "headers = {'User-Agent': 'My Python App'}\n",
    "\n",
    "for username in usernames:\n",
    "    print(f\"Processing player: {username}\")\n",
    "    player_games = []\n",
    "\n",
    "    try:\n",
    "        url_archives = f'https://api.chess.com/pub/player/{username}/games/archives'\n",
    "        archives = requests.get(url_archives, headers=headers).json()['archives']\n",
    "    except Exception as e:\n",
    "        print(f\"Error fetching archives for {username}: {e}\")\n",
    "        continue\n",
    "\n",
    "    for archive_url in tqdm(archives, desc=f\"Getting PGNs for ({username})\", leave=False):\n",
    "        url = f'{archive_url}/pgn'\n",
    "        response = requests.get(url, headers=headers)\n",
    "\n",
    "        if response.status_code == 200:\n",
    "            pgn_io = io.StringIO(response.text)\n",
    "            while True:\n",
    "                game = chess.pgn.read_game(pgn_io)\n",
    "                if game is None:\n",
    "                    break\n",
    "                player_games.append(game)\n",
    "        else:\n",
    "            print(f\"Failed to fetch {archive_url}, status code: {response.status_code}\")\n",
    "\n",
    "    documents = []\n",
    "    for game in tqdm(player_games, desc=f\"Parsing games for ({username})\", leave=False):\n",
    "        board = game.board()\n",
    "        try:\n",
    "            if game.headers.get(\"White\") == username:\n",
    "                for move in game.mainline_moves():\n",
    "                    if board.turn == chess.WHITE:\n",
    "                        metadata = {\n",
    "                            \"date\": game.headers.get(\"Date\"),\n",
    "                            \"white\": game.headers.get(\"White\"),\n",
    "                            \"whiteElo\": game.headers.get(\"WhiteElo\"),\n",
    "                            \"black\": game.headers.get(\"Black\"),\n",
    "                            \"blackElo\": game.headers.get(\"BlackElo\"),\n",
    "                            \"result\": game.headers.get(\"Result\"),\n",
    "                            \"termination\": game.headers.get(\"Termination\"),\n",
    "                            \"url\": game.headers.get(\"Link\"),\n",
    "                            \"move\": board.san(move),\n",
    "                            \"fen\": board.fen()\n",
    "                        }\n",
    "                        doc = Document(metadata=metadata, page_content=board.fen())\n",
    "                        documents.append(doc)\n",
    "                    board.push(move)\n",
    "\n",
    "            elif game.headers.get(\"Black\") == username:\n",
    "                for move in game.mainline_moves():\n",
    "                    if board.turn == chess.BLACK:\n",
    "                        metadata = {\n",
    "                            \"date\": game.headers.get(\"Date\"),\n",
    "                            \"white\": game.headers.get(\"White\"),\n",
    "                            \"whiteElo\": game.headers.get(\"WhiteElo\"),\n",
    "                            \"black\": game.headers.get(\"Black\"),\n",
    "                            \"blackElo\": game.headers.get(\"BlackElo\"),\n",
    "                            \"result\": game.headers.get(\"Result\"),\n",
    "                            \"termination\": game.headers.get(\"Termination\"),\n",
    "                            \"url\": game.headers.get(\"Link\"),\n",
    "                            \"move\": board.san(move),\n",
    "                            \"fen\": board.fen()\n",
    "                        }\n",
    "                        doc = Document(metadata=metadata, page_content=board.fen())\n",
    "                        documents.append(doc)\n",
    "                    board.push(move)\n",
    "        except:\n",
    "            pass\n",
    "            \n",
    "    sample_size = min(100000, len(documents))\n",
    "    sampled_documents = random.sample(documents, sample_size)\n",
    "    print(len(sampled_documents))\n",
    "    \n",
    "    print(f\"Building vectorstore for {username}\")\n",
    "    vectorstore = FAISS.from_documents(sampled_documents, embedding=embeddings_model)\n",
    "    vectorstore.save_local(f\"../database/{username}\")"
   ]
  },
  {
   "cell_type": "code",
   "execution_count": null,
   "id": "d0fdfd76-7d52-4c63-b7ac-22ac43aec800",
   "metadata": {},
   "outputs": [],
   "source": []
  }
 ],
 "metadata": {
  "kernelspec": {
   "display_name": "Python (uv env)",
   "language": "python",
   "name": ".venv"
  },
  "language_info": {
   "codemirror_mode": {
    "name": "ipython",
    "version": 3
   },
   "file_extension": ".py",
   "mimetype": "text/x-python",
   "name": "python",
   "nbconvert_exporter": "python",
   "pygments_lexer": "ipython3",
   "version": "3.10.17"
  }
 },
 "nbformat": 4,
 "nbformat_minor": 5
}
