{
 "cells": [
  {
   "cell_type": "code",
   "execution_count": 4,
   "id": "6789a8a1-0a7b-4573-8290-28196c36857f",
   "metadata": {},
   "outputs": [],
   "source": [
    "from langchain_huggingface import HuggingFaceEmbeddings\n",
    "\n",
    "model_name = \"sentence-transformers/all-MiniLM-L6-v2\"\n",
    "model_kwargs = {\"device\": \"cpu\"}\n",
    "encode_kwargs = {\"normalize_embeddings\": True}\n",
    "embeddings_model = HuggingFaceEmbeddings(\n",
    "    model_name=model_name, model_kwargs=model_kwargs, encode_kwargs=encode_kwargs\n",
    ")"
   ]
  },
  {
   "cell_type": "code",
   "execution_count": 1,
   "id": "18fe4052-2750-40ca-9d02-9f22c7c51457",
   "metadata": {},
   "outputs": [],
   "source": [
    "from dotenv import load_dotenv\n",
    "import os\n",
    "\n",
    "# Load the .env file\n",
    "load_dotenv()\n",
    "\n",
    "# Now you can access your API key and environment like this\n",
    "api_key = os.getenv(\"PINECONE_API_KEY\")"
   ]
  },
  {
   "cell_type": "code",
   "execution_count": 2,
   "id": "8574f6a1-9e87-44a3-8b44-f4840e466097",
   "metadata": {},
   "outputs": [
    {
     "name": "stderr",
     "output_type": "stream",
     "text": [
      "/home/ec2-user/SageMaker/spring-2025-final-project-project-group-13/.venv/lib/python3.10/site-packages/tqdm/auto.py:21: TqdmWarning: IProgress not found. Please update jupyter and ipywidgets. See https://ipywidgets.readthedocs.io/en/stable/user_install.html\n",
      "  from .autonotebook import tqdm as notebook_tqdm\n"
     ]
    }
   ],
   "source": [
    "from pinecone import Pinecone, ServerlessSpec\n",
    "\n",
    "pc = Pinecone(\n",
    "    api_key=api_key\n",
    ")\n",
    "\n",
    "if 'chess-moves' not in pc.list_indexes().names():\n",
    "    pc.create_index(\n",
    "        name='chess-moves',\n",
    "        vector_type=\"dense\",\n",
    "        dimension = 384,\n",
    "        metric=\"dotproduct\",\n",
    "        spec=ServerlessSpec(cloud=\"aws\", region=\"us-east-1\")\n",
    "    )"
   ]
  },
  {
   "cell_type": "code",
   "execution_count": 5,
   "id": "554fb7aa-f19c-43f5-b082-a48ac3ca7cd6",
   "metadata": {},
   "outputs": [],
   "source": [
    "from langchain_pinecone import PineconeVectorStore"
   ]
  },
  {
   "cell_type": "code",
   "execution_count": 6,
   "id": "cbff751d-79cd-42b2-93b5-439f3e8ecb80",
   "metadata": {},
   "outputs": [],
   "source": [
    "index = pc.Index('chess-moves')\n",
    "vector_store = PineconeVectorStore(index=index, embedding=embeddings_model)"
   ]
  },
  {
   "cell_type": "code",
   "execution_count": null,
   "id": "1044cb2f-45d7-40c7-9c0c-40a12fbb7319",
   "metadata": {},
   "outputs": [],
   "source": [
    "from langchain_community.vectorstores import FAISS\n",
    "\n",
    "faiss_store = FAISS.load_local(\"database/all_games\", embeddings_model, allow_dangerous_deserialization=True)\n",
    "docs = faiss_store.docstore._dict.values()"
   ]
  },
  {
   "cell_type": "code",
   "execution_count": null,
   "id": "78b5d86b-afac-4a5a-8a1a-64c3e8d09e0a",
   "metadata": {
    "scrolled": true
   },
   "outputs": [],
   "source": [
    "# vector_store.add_documents(documents=docs)"
   ]
  },
  {
   "cell_type": "code",
   "execution_count": 7,
   "id": "64f3fd1d-bf62-4f20-bc86-5ca0a6ea5af9",
   "metadata": {},
   "outputs": [],
   "source": [
    "vectorstore = PineconeVectorStore.from_existing_index(\n",
    "    index_name=\"chess-moves\",\n",
    "    embedding=embeddings_model\n",
    ")"
   ]
  },
  {
   "cell_type": "code",
   "execution_count": 8,
   "id": "1dbb6a0f-d344-4bec-ba65-e4be5c387af2",
   "metadata": {},
   "outputs": [],
   "source": [
    "result = vectorstore.similarity_search(\n",
    "    \"rnbqkbnr/pppppppp/8/8/8/8/PPPPPPPP/RNBQKBNR w KQkq - 0 1\",\n",
    "    k=2\n",
    ")"
   ]
  },
  {
   "cell_type": "code",
   "execution_count": 9,
   "id": "7084467a-0be6-4ab7-9245-c39641aa8bcb",
   "metadata": {},
   "outputs": [
    {
     "data": {
      "text/plain": [
       "[Document(id='152084b3-c5fa-46d1-9115-2e3e45618e26', metadata={'black': 'vinniethepooh', 'blackElo': '2389', 'date': '2019.03.05', 'fen': 'rnbqkbnr/pppppppp/8/8/8/8/PPPPPPPP/RNBQKBNR w KQkq - 0 1', 'move': 'Nf3', 'result': '1/2-1/2', 'termination': 'Game drawn by agreement', 'url': 'https://www.chess.com/game/live/3509059261', 'white': 'GukeshDommaraju', 'whiteElo': '2309'}, page_content='rnbqkbnr/pppppppp/8/8/8/8/PPPPPPPP/RNBQKBNR w KQkq - 0 1'),\n",
       " Document(id='c746977c-09c6-4418-9018-d9d1d5804243', metadata={'black': 'Tijd_Verdoening', 'blackElo': '2430', 'date': '2019.09.22', 'fen': 'rnbqkbnr/pppppppp/8/8/8/8/PPPPPPPP/RNBQKBNR w KQkq - 0 1', 'move': 'd4', 'result': '1-0', 'termination': 'GukeshDommaraju won by checkmate', 'url': 'https://www.chess.com/game/live/4054728600', 'white': 'GukeshDommaraju', 'whiteElo': '2457'}, page_content='rnbqkbnr/pppppppp/8/8/8/8/PPPPPPPP/RNBQKBNR w KQkq - 0 1')]"
      ]
     },
     "execution_count": 9,
     "metadata": {},
     "output_type": "execute_result"
    }
   ],
   "source": [
    "result"
   ]
  },
  {
   "cell_type": "code",
   "execution_count": null,
   "id": "94dc9c1d-e951-4c55-8d3e-84c9b7785149",
   "metadata": {},
   "outputs": [],
   "source": []
  }
 ],
 "metadata": {
  "kernelspec": {
   "display_name": "Python (uv env)",
   "language": "python",
   "name": ".venv"
  },
  "language_info": {
   "codemirror_mode": {
    "name": "ipython",
    "version": 3
   },
   "file_extension": ".py",
   "mimetype": "text/x-python",
   "name": "python",
   "nbconvert_exporter": "python",
   "pygments_lexer": "ipython3",
   "version": "3.10.17"
  }
 },
 "nbformat": 4,
 "nbformat_minor": 5
}
