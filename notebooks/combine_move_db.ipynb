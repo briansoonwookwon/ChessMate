{
 "cells": [
  {
   "cell_type": "code",
   "execution_count": 1,
   "id": "a30ebfe5-5b11-4619-a0e6-56de34bb828d",
   "metadata": {},
   "outputs": [
    {
     "name": "stderr",
     "output_type": "stream",
     "text": [
      "/home/ec2-user/SageMaker/spring-2025-final-project-project-group-13/.venv/lib/python3.10/site-packages/tqdm/auto.py:21: TqdmWarning: IProgress not found. Please update jupyter and ipywidgets. See https://ipywidgets.readthedocs.io/en/stable/user_install.html\n",
      "  from .autonotebook import tqdm as notebook_tqdm\n",
      "Xet Storage is enabled for this repo, but the 'hf_xet' package is not installed. Falling back to regular HTTP download. For better performance, install the package with: `pip install huggingface_hub[hf_xet]` or `pip install hf_xet`\n"
     ]
    }
   ],
   "source": [
    "from langchain_huggingface import HuggingFaceEmbeddings\n",
    "from langchain_community.vectorstores import FAISS\n",
    "\n",
    "model_name = \"sentence-transformers/all-MiniLM-L6-v2\"\n",
    "model_kwargs = {\"device\": \"cpu\"}\n",
    "encode_kwargs = {\"normalize_embeddings\": True}\n",
    "embeddings_model = HuggingFaceEmbeddings(\n",
    "    model_name=model_name, model_kwargs=model_kwargs, encode_kwargs=encode_kwargs\n",
    ")"
   ]
  },
  {
   "cell_type": "code",
   "execution_count": 3,
   "id": "5f8df649-be36-4bd6-bf5c-5a0f1ba493e8",
   "metadata": {},
   "outputs": [],
   "source": [
    "hikaru_vs = FAISS.load_local(\"../database/Hikaru\", embeddings_model, allow_dangerous_deserialization=True)\n",
    "carlsen_vs = FAISS.load_local(\"../database/MagnusCarlsen\", embeddings_model, allow_dangerous_deserialization=True)\n",
    "fabiano_vs = FAISS.load_local(\"../database/FabianoCaruana\", embeddings_model, allow_dangerous_deserialization=True)\n",
    "arjun_vs = FAISS.load_local(\"../database/GHANDEEVAM2003\", embeddings_model, allow_dangerous_deserialization=True)\n",
    "gukesh_vs = FAISS.load_local(\"../database/GukeshDommaraju\", embeddings_model, allow_dangerous_deserialization=True)"
   ]
  },
  {
   "cell_type": "code",
   "execution_count": 4,
   "id": "69388d4e-849a-4d3c-af32-3978c4573c2d",
   "metadata": {},
   "outputs": [],
   "source": [
    "hikaru_vs.merge_from(carlsen_vs)\n",
    "hikaru_vs.merge_from(fabiano_vs)\n",
    "hikaru_vs.merge_from(arjun_vs)\n",
    "hikaru_vs.merge_from(gukesh_vs)\n",
    "\n",
    "hikaru_vs.save_local(\"../database/all_games\")"
   ]
  },
  {
   "cell_type": "code",
   "execution_count": 6,
   "id": "c9bfc0d5-5b27-4c4f-9707-ba0a6857be8a",
   "metadata": {},
   "outputs": [],
   "source": [
    "all_games = FAISS.load_local(\"../database/all_games\", embeddings_model, allow_dangerous_deserialization=True)"
   ]
  }
 ],
 "metadata": {
  "kernelspec": {
   "display_name": "Python (uv env)",
   "language": "python",
   "name": ".venv"
  },
  "language_info": {
   "codemirror_mode": {
    "name": "ipython",
    "version": 3
   },
   "file_extension": ".py",
   "mimetype": "text/x-python",
   "name": "python",
   "nbconvert_exporter": "python",
   "pygments_lexer": "ipython3",
   "version": "3.10.17"
  }
 },
 "nbformat": 4,
 "nbformat_minor": 5
}
