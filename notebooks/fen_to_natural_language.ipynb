{
 "cells": [
  {
   "cell_type": "code",
   "execution_count": 7,
   "id": "81f7b278-1320-4507-a6a3-f93d3a800c32",
   "metadata": {},
   "outputs": [],
   "source": [
    "import chess\n",
    "import chess.pgn\n",
    "import requests\n",
    "import io\n",
    "from tqdm import tqdm"
   ]
  },
  {
   "cell_type": "code",
   "execution_count": 8,
   "id": "da4c44b6-9ff8-40ca-863a-77da7242fa91",
   "metadata": {},
   "outputs": [],
   "source": [
    "def fen_to_detailed_description(fen):\n",
    "    board = chess.Board(fen)\n",
    "\n",
    "    description = []\n",
    "\n",
    "    # 1. Whose turn\n",
    "    turn = \"White\" if board.turn else \"Black\"\n",
    "    description.append(f\"{turn} to move.\")\n",
    "\n",
    "    # 2. Castling rights\n",
    "    castling_desc = []\n",
    "    if board.has_kingside_castling_rights(chess.WHITE):\n",
    "        castling_desc.append(\"White can castle kingside\")\n",
    "    if board.has_queenside_castling_rights(chess.WHITE):\n",
    "        castling_desc.append(\"White can castle queenside\")\n",
    "    if board.has_kingside_castling_rights(chess.BLACK):\n",
    "        castling_desc.append(\"Black can castle kingside\")\n",
    "    if board.has_queenside_castling_rights(chess.BLACK):\n",
    "        castling_desc.append(\"Black can castle queenside\")\n",
    "    if castling_desc:\n",
    "        description.append(\". \".join(castling_desc) + \".\")\n",
    "    else:\n",
    "        description.append(\"No castling rights remaining.\")\n",
    "\n",
    "    # 3. En passant\n",
    "    if board.ep_square:\n",
    "        description.append(f\"En passant capture available at {chess.square_name(board.ep_square)}.\")\n",
    "\n",
    "    # 4. Piece locations\n",
    "    piece_names = {\n",
    "        chess.PAWN: \"pawn\",\n",
    "        chess.KNIGHT: \"knight\",\n",
    "        chess.BISHOP: \"bishop\",\n",
    "        chess.ROOK: \"rook\",\n",
    "        chess.QUEEN: \"queen\",\n",
    "        chess.KING: \"king\",\n",
    "    }\n",
    "\n",
    "    def describe_pieces(color):\n",
    "        color_name = \"White\" if color == chess.WHITE else \"Black\"\n",
    "        parts = []\n",
    "        for piece_type in piece_names:\n",
    "            squares = list(board.pieces(piece_type, color))\n",
    "            if squares:\n",
    "                locs = [chess.square_name(sq) for sq in squares]\n",
    "                piece_desc = f\"{len(locs)} {piece_names[piece_type]}{'s' if len(locs) > 1 else ''} on {', '.join(locs)}\"\n",
    "                parts.append(piece_desc)\n",
    "        return f\"{color_name} has: \" + \"; \".join(parts) + \".\"\n",
    "\n",
    "    description.append(describe_pieces(chess.WHITE))\n",
    "    description.append(describe_pieces(chess.BLACK))\n",
    "\n",
    "    return \" \".join(description)"
   ]
  },
  {
   "cell_type": "code",
   "execution_count": 9,
   "id": "ff1ed6ee-6cc3-4b95-9efc-e15ce2cb762c",
   "metadata": {},
   "outputs": [
    {
     "name": "stderr",
     "output_type": "stream",
     "text": [
      "100%|██████████| 49/49 [00:34<00:00,  1.44it/s]\n"
     ]
    }
   ],
   "source": [
    "usernames = [\"MagnusCarlsen\"]\n",
    "\n",
    "all_games = []\n",
    "for username in usernames:\n",
    "    url_archives = f'https://api.chess.com/pub/player/{username}/games/archives'\n",
    "    headers = {'User-Agent': 'My Python App'}\n",
    "    archives = requests.get(url_archives, headers=headers).json()['archives']\n",
    "    \n",
    "    # Iterate through each archive URL\n",
    "    for archive_url in tqdm(archives):\n",
    "        url = f'{archive_url}/pgn'\n",
    "        response = requests.get(url, headers=headers)\n",
    "        \n",
    "        # Check if the request was successful\n",
    "        if response.status_code == 200:\n",
    "            pgn_io = io.StringIO(response.text)\n",
    "            \n",
    "            # Read all games from this archive\n",
    "            while True:\n",
    "                game = chess.pgn.read_game(pgn_io)\n",
    "                if game is None:\n",
    "                    break\n",
    "                all_games.append(game)\n",
    "            \n",
    "        else:\n",
    "            print(f\"Failed to fetch {archive_url}, status code: {response.status_code}\")"
   ]
  },
  {
   "cell_type": "code",
   "execution_count": 12,
   "id": "8aff3e6c-5af5-4d57-9c88-4dc4c33e67c4",
   "metadata": {},
   "outputs": [
    {
     "name": "stderr",
     "output_type": "stream",
     "text": [
      "Parsing games: 100%|██████████| 500/500 [00:14<00:00, 33.68it/s]\n"
     ]
    }
   ],
   "source": [
    "from langchain.schema import Document\n",
    "\n",
    "documents = []\n",
    "\n",
    "for game in tqdm(all_games[:500], desc = \"Parsing games\"):\n",
    "    board = chess.Board()\n",
    "\n",
    "    for move in game.mainline_moves():\n",
    "        # fen = re.sub(r\" \\d+ \\d+$\", \"\", board.fen())\n",
    "        try:\n",
    "            metadata = {\n",
    "                \"date\" : game.headers.get(\"Date\"),\n",
    "                \"white\" : game.headers.get(\"White\"),\n",
    "                \"whiteElo\": game.headers.get(\"WhiteElo\"),\n",
    "                \"black\" : game.headers.get(\"Black\"),\n",
    "                \"blackElo\": game.headers.get(\"BlackElo\"),\n",
    "                \"result\" : game.headers.get(\"Result\"),\n",
    "                \"termination\": game.headers.get(\"Termination\"),\n",
    "                \"url\" : game.headers.get(\"Link\"),\n",
    "                'fen': fen_to_detailed_description(board.fen()),\n",
    "                'move': board.san(move)\n",
    "            }\n",
    "            \n",
    "            document = Document(metadata = metadata, page_content = board.fen())\n",
    "            documents.append(document)\n",
    "            board.push(move)\n",
    "\n",
    "        except:\n",
    "            pass"
   ]
  },
  {
   "cell_type": "code",
   "execution_count": 13,
   "id": "2cfe88f6-ddc2-4374-bf08-020631b96d36",
   "metadata": {},
   "outputs": [],
   "source": [
    "%run ../bedrock_setup.py"
   ]
  },
  {
   "cell_type": "code",
   "execution_count": 14,
   "id": "4f30d2e5-d084-4315-9de8-3c0c7d05927c",
   "metadata": {},
   "outputs": [
    {
     "name": "stderr",
     "output_type": "stream",
     "text": [
      "/tmp/ipykernel_15812/3901653868.py:7: LangChainDeprecationWarning: The class `HuggingFaceBgeEmbeddings` was deprecated in LangChain 0.2.2 and will be removed in 1.0. An updated version of the class exists in the :class:`~langchain-huggingface package and should be used instead. To use it run `pip install -U :class:`~langchain-huggingface` and import as `from :class:`~langchain_huggingface import HuggingFaceEmbeddings``.\n",
      "  embeddings_model = HuggingFaceBgeEmbeddings(\n",
      "/home/ec2-user/SageMaker/spring-2025-final-project-project-group-13/.venv/lib/python3.10/site-packages/tqdm/auto.py:21: TqdmWarning: IProgress not found. Please update jupyter and ipywidgets. See https://ipywidgets.readthedocs.io/en/stable/user_install.html\n",
      "  from .autonotebook import tqdm as notebook_tqdm\n"
     ]
    }
   ],
   "source": [
    "from langchain.embeddings import HuggingFaceBgeEmbeddings\n",
    "from langchain_community.vectorstores import FAISS\n",
    "\n",
    "model_name = \"sentence-transformers/all-MiniLM-L6-v2\"\n",
    "model_kwargs = {\"device\": \"cpu\"}\n",
    "encode_kwargs = {\"normalize_embeddings\": True}\n",
    "embeddings_model = HuggingFaceBgeEmbeddings(\n",
    "    model_name=model_name, model_kwargs=model_kwargs, encode_kwargs=encode_kwargs\n",
    ")"
   ]
  },
  {
   "cell_type": "code",
   "execution_count": 17,
   "id": "f28169ca-e3b8-4db0-af2d-65df61604146",
   "metadata": {},
   "outputs": [],
   "source": [
    "vectorstore = FAISS.from_documents(documents=documents, embedding=embeddings_model)\n",
    "vectorstore.save_local(\"../database/natural_language_test\")"
   ]
  },
  {
   "cell_type": "code",
   "execution_count": 18,
   "id": "def8a084-ce89-4f63-9079-2597e5a8d518",
   "metadata": {},
   "outputs": [],
   "source": [
    "fens = [\n",
    "    \"r1bqkbnr/pppp1ppp/2n5/4p3/1bP5/5N2/PP1PPPPP/RNBQKB1R w KQkq - 2 4\",\n",
    "    \"rnbq1rk1/pp3pbp/3p1np1/2pPp3/2P1P3/2N2N2/PP2BPPP/R1BQ1RK1 w - - 3 9\",\n",
    "    \"r3k2r/pp1n1ppp/2pb1q2/3p4/3P4/2N1BN2/PPP2PPP/R2Q1RK1 w kq - 4 11\",\n",
    "    \"r1bqkb1r/pppp1ppp/2n2n2/4p3/2B1P3/5N2/PPPP1PPP/RNBQK2R b KQkq - 2 4\",\n",
    "    \"2rq1rk1/pp2bppp/3p1n2/3P4/2P1n3/2N2N2/PP1B1PPP/R2QR1K1 w - - 5 13\",\n",
    "    \"r1bqkbnr/pppp1ppp/2n5/4p3/4P3/5N2/PPPP1PPP/RNBQKB1R w KQkq - 2 3\"\n",
    "]\n",
    "\n",
    "moves = []\n",
    "for fen in fens:\n",
    "    n_fen = fen_to_detailed_description(fen)\n",
    "    embed = embeddings_model.embed_query(n_fen)\n",
    "    results = vectorstore.similarity_search_by_vector(embed, k=10)\n",
    "    p_moves = []\n",
    "    \n",
    "    for doc in results:\n",
    "        p_moves.append(doc.metadata['move'])\n",
    "    moves.append(set(p_moves))"
   ]
  },
  {
   "cell_type": "code",
   "execution_count": 19,
   "id": "64316269-f682-4cf5-9534-635de2e77e6f",
   "metadata": {},
   "outputs": [
    {
     "name": "stdout",
     "output_type": "stream",
     "text": [
      "r1bqkbnr/pppp1ppp/2n5/4p3/1bP5/5N2/PP1PPPPP/RNBQKB1R w KQkq - 2 4\n",
      "rnbq1rk1/pp3pbp/3p1np1/2pPp3/2P1P3/2N2N2/PP2BPPP/R1BQ1RK1 w - - 3 9\n",
      "Bd2\n",
      "r3k2r/pp1n1ppp/2pb1q2/3p4/3P4/2N1BN2/PPP2PPP/R2Q1RK1 w kq - 4 11\n",
      "Bd2\n",
      "r1bqkb1r/pppp1ppp/2n2n2/4p3/2B1P3/5N2/PPPP1PPP/RNBQK2R b KQkq - 2 4\n",
      "2rq1rk1/pp2bppp/3p1n2/3P4/2P1n3/2N2N2/PP1B1PPP/R2QR1K1 w - - 5 13\n",
      "r1bqkbnr/pppp1ppp/2n5/4p3/4P3/5N2/PPPP1PPP/RNBQKB1R w KQkq - 2 3\n"
     ]
    }
   ],
   "source": [
    "for i, fen in enumerate(fens):\n",
    "    print(fen)\n",
    "    p_moves = moves[i]\n",
    "    for move in p_moves:\n",
    "        board = chess.Board(fen)\n",
    "        try:\n",
    "            board.push_san(move)\n",
    "            print(move)\n",
    "        except:\n",
    "            pass"
   ]
  },
  {
   "cell_type": "code",
   "execution_count": null,
   "id": "4bc66a20-1bb7-4346-a815-ad539787b9a4",
   "metadata": {},
   "outputs": [],
   "source": []
  }
 ],
 "metadata": {
  "kernelspec": {
   "display_name": "Python (uv env)",
   "language": "python",
   "name": ".venv"
  },
  "language_info": {
   "codemirror_mode": {
    "name": "ipython",
    "version": 3
   },
   "file_extension": ".py",
   "mimetype": "text/x-python",
   "name": "python",
   "nbconvert_exporter": "python",
   "pygments_lexer": "ipython3",
   "version": "3.10.16"
  }
 },
 "nbformat": 4,
 "nbformat_minor": 5
}
