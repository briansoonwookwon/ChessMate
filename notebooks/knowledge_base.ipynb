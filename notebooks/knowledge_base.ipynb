{
 "cells": [
  {
   "cell_type": "code",
   "execution_count": 19,
   "id": "6d9f7ebd-5f69-45b7-8397-1d432e3e193f",
   "metadata": {},
   "outputs": [],
   "source": [
    "from bs4 import BeautifulSoup\n",
    "import requests\n",
    "from tqdm import tqdm"
   ]
  },
  {
   "cell_type": "code",
   "execution_count": 23,
   "id": "ce6ad395-fc86-49e5-8484-9dc395b090d0",
   "metadata": {},
   "outputs": [
    {
     "name": "stderr",
     "output_type": "stream",
     "text": [
      "100%|██████████| 6/6 [05:34<00:00, 55.75s/it]\n"
     ]
    }
   ],
   "source": [
    "documents = []\n",
    "types = [\"beginners\", \"strategy\", \"tactics\", \"opening-theory\", \"middlegame\", \"endgames\"]\n",
    "for t in tqdm(types, desc = \"Processing articles\"):\n",
    "    for page_number in range(1, 10):\n",
    "        base_url = f\"https://www.chess.com/articles/{t}?page={page_number}\"\n",
    "        response = requests.get(base_url)\n",
    "        soup = BeautifulSoup(response.text, \"html.parser\")\n",
    "        \n",
    "        articles = soup.find_all(\"article\")\n",
    "        for article in articles:\n",
    "            link = article.find(\"a\")[\"href\"]\n",
    "            response = requests.get(link)\n",
    "            soup = BeautifulSoup(response.text, \"html.parser\")\n",
    "            article = soup.find_all(\"article\")[0]\n",
    "            title = article.find(\"div\", class_=\"post-view-header\").get_text(strip=True)\n",
    "            content = article.find(\"div\", class_=\"post-view-content\").get_text(strip=True)\n",
    "            document = {\"type\":t, \"title\":title, \"content\":content}\n",
    "            documents.append(document)"
   ]
  },
  {
   "cell_type": "code",
   "execution_count": 1,
   "id": "0c895f87-15eb-4a2d-8715-9e196c7a8aae",
   "metadata": {},
   "outputs": [],
   "source": [
    "%run ../bedrock_setup.py"
   ]
  },
  {
   "cell_type": "code",
   "execution_count": 2,
   "id": "54568542-7d61-4af6-aeaa-a45f872a7c4f",
   "metadata": {},
   "outputs": [],
   "source": [
    "from langchain.embeddings import HuggingFaceBgeEmbeddings\n",
    "from langchain_community.vectorstores import FAISS"
   ]
  },
  {
   "cell_type": "code",
   "execution_count": 3,
   "id": "29cf95ba-b0e9-439f-9bfb-24f0bf002447",
   "metadata": {},
   "outputs": [
    {
     "name": "stderr",
     "output_type": "stream",
     "text": [
      "/tmp/ipykernel_18683/709488177.py:4: LangChainDeprecationWarning: The class `HuggingFaceBgeEmbeddings` was deprecated in LangChain 0.2.2 and will be removed in 1.0. An updated version of the class exists in the :class:`~langchain-huggingface package and should be used instead. To use it run `pip install -U :class:`~langchain-huggingface` and import as `from :class:`~langchain_huggingface import HuggingFaceEmbeddings``.\n",
      "  embeddings_model = HuggingFaceBgeEmbeddings(\n",
      "IOStream.flush timed out\n",
      "/home/ec2-user/SageMaker/spring-2025-final-project-project-group-13/.venv/lib/python3.10/site-packages/tqdm/auto.py:21: TqdmWarning: IProgress not found. Please update jupyter and ipywidgets. See https://ipywidgets.readthedocs.io/en/stable/user_install.html\n",
      "  from .autonotebook import tqdm as notebook_tqdm\n"
     ]
    }
   ],
   "source": [
    "model_name = \"sentence-transformers/all-MiniLM-L6-v2\"\n",
    "model_kwargs = {\"device\": \"cpu\"}\n",
    "encode_kwargs = {\"normalize_embeddings\": True}\n",
    "embeddings_model = HuggingFaceBgeEmbeddings(\n",
    "    model_name=model_name, model_kwargs=model_kwargs, encode_kwargs=encode_kwargs\n",
    ")"
   ]
  },
  {
   "cell_type": "code",
   "execution_count": 25,
   "id": "b65eccd7-dd90-4383-8561-fb38eb591c1d",
   "metadata": {},
   "outputs": [],
   "source": [
    "from langchain.schema import Document\n",
    "from langchain_text_splitters import RecursiveCharacterTextSplitter\n",
    "\n",
    "contents = []\n",
    "for document in documents:\n",
    "    metadata = {\n",
    "        \"type\": document[\"type\"],\n",
    "        \"title\": document[\"title\"]\n",
    "    }\n",
    "    doc = Document(metadata=metadata, page_content = document[\"content\"])\n",
    "    contents.append(doc)\n",
    "\n",
    "text_splitter = RecursiveCharacterTextSplitter(chunk_size=1000, chunk_overlap=200)\n",
    "splits = text_splitter.split_documents(contents)"
   ]
  },
  {
   "cell_type": "code",
   "execution_count": 28,
   "id": "b37c57df-fb8f-4d7c-b127-346fd4592198",
   "metadata": {},
   "outputs": [],
   "source": [
    "vectorstore = FAISS.from_documents(documents=splits, embedding=embeddings_model)\n",
    "vectorstore.save_local(\"../database/knowledge_base\")"
   ]
  },
  {
   "cell_type": "code",
   "execution_count": 29,
   "id": "f16e297a-8e8d-4e1a-9c1b-09f371111cc8",
   "metadata": {},
   "outputs": [],
   "source": [
    "retriever = vectorstore.as_retriever(search_kwargs={'k': 4})"
   ]
  },
  {
   "cell_type": "code",
   "execution_count": 31,
   "id": "01054521-aa62-4e1c-ae0c-5d78f49ce2a5",
   "metadata": {},
   "outputs": [],
   "source": [
    "from langchain.chains import create_retrieval_chain\n",
    "from langchain.chains.combine_documents import create_stuff_documents_chain\n",
    "from langchain_core.prompts import ChatPromptTemplate\n",
    "\n",
    "llm = ChatBedrockConverse(\n",
    "    client=bedrock_client,\n",
    "    model_id=\"us.amazon.nova-micro-v1:0\",\n",
    ")\n",
    "\n",
    "system_prompt = (\n",
    "    \"You are an assistant for question-answering tasks on chess. \"\n",
    "    \"Use the following pieces of retrieved context to answer \"\n",
    "    \"the question. If you don't know the answer, say that you \"\n",
    "    \"don't know. Be as descriptive as possible while still being \"\n",
    "    \"factual and coherent.\"\n",
    "    \"{context}\"\n",
    ")\n",
    "\n",
    "prompt = ChatPromptTemplate.from_messages(\n",
    "    [\n",
    "        (\"system\", system_prompt),\n",
    "        (\"human\", \"{input}\"),\n",
    "    ]\n",
    ")\n",
    "\n",
    "question_answer_chain = create_stuff_documents_chain(llm, prompt)\n",
    "rag_chain = create_retrieval_chain(retriever, question_answer_chain)\n"
   ]
  },
  {
   "cell_type": "code",
   "execution_count": 39,
   "id": "3e682d13-f291-4141-9780-81586f737377",
   "metadata": {},
   "outputs": [],
   "source": [
    "q = \"\"\"\n",
    "    What is the best move in this position: r1bqkbnr/pppp1ppp/2n5/4p3/4P3/5N2/PPPP1PPP/RNBQKB1R w KQkq - 2 3?\n",
    "    Give your answer in SAN format.\n",
    "    \"\"\"\n",
    "\n",
    "results = rag_chain.invoke(\n",
    "    {\"input\": q}\n",
    ")"
   ]
  },
  {
   "cell_type": "code",
   "execution_count": 41,
   "id": "c7a566bd-93b5-4684-a040-9facd4568c86",
   "metadata": {},
   "outputs": [
    {
     "data": {
      "text/plain": [
       "[Document(id='12b5a5b9-9f88-4839-9a60-3809f749419c', metadata={'type': 'tactics', 'title': 'PogChamps 3 Chess Puzzles: Finals'}, page_content='information on PogChamps 3, readthis guide.Could you find the right moves in each of these positions? How difficult was it for you to find them? Leave a comment below to let us know!Other PogChamps 3 puzzles:PogChamps 3 Chess Puzzles: Day 1\\u200ePogChamps 3 Chess Puzzles: Day 2PogChamps 3 Chess Puzzles: Day 3PogChamps 3 Chess Puzzles: Day 4PogChamps 3 Chess Puzzles: Day 5PogChamps 3 Chess Puzzles: Day 6PogChamps 3 Chess Puzzles: Day 7PogChamps 3 Chess Puzzles: Day 8PogChamps 3 Chess Puzzles: Day 9PogChamps 3 Chess Puzzles: Day 10PogChamps 3 Chess Puzzles: Days 11 And 12'),\n",
       " Document(id='f7f68fb7-6e62-4c2c-9496-679e700792d3', metadata={'type': 'opening-theory', 'title': 'Transpositions'}, page_content=\"let me explain the key ideas that one needs to understand to be able to recognize such transpositions. Study the pawn structures thoroughly and try to understand the opening variation in terms of these pawn formations rather than just the move order. The following example should help you understand my point precisely.Let us examine the following position. White has traded his 'e' pawn for black's 'c' pawn. They both have centralized pawns on the 'd' file and lastly white is challenging the central 'd' pawn with his 'c' pawn. This pawn formation can arise out of several move orders. For exampleThe same position arises out of the Caro-Kann defense or the Scandinavian defense (aka Center-Counter) or the English opening. It does not matter what move order you followed to reach this position since that is insignificant from this point forward. It is not the exact move order, but the way the pawns are positioned that should help you form your plans. If you know your plan here, that will\"),\n",
       " Document(id='4780d354-66d4-4115-a9be-1a1200e0ee19', metadata={'type': 'middlegame', 'title': 'How To Find The Best Chess Move'}, page_content=\"to consider. In fact, this move essentially wins the game on the spot. I showed this position to my students and all of them rated above USCF 1800 easily found the win. Can you?Despite the obvious drawbacks, Kotov's book helps you to systematize your thinking. As he explains, first you need to find all the move candidates and only then start analyzing each of them, trying to figure out which one is the best. It is ironic that in the above-mentioned position Kotov didn't follow his own advice and missed the move candidate that would win the game on the spot.I hope I have managed to whet your appetite, so you'll read this excellent book of GM Kotov.\"),\n",
       " Document(id='ce917d13-3fcd-4d84-8f43-a9e8e2d79e9a', metadata={'type': 'tactics', 'title': 'PogChamps 3 Chess Puzzles: Day 10'}, page_content='find the right moves in each of these positions? How difficult was it for you to find them? Leave a comment below to let us know!During PogChamps 3, Chess.com will match up to $100,000 in donations to the participants’ preferred non-profit organizations. Please readthis articleto see how PogChamps is supporting charities and how you can help, too!Donate And SupportOther PogChamps 3 puzzles:PogChamps 3 Chess Puzzles: Day 1\\u200ePogChamps 3 Chess Puzzles: Day 2PogChamps 3 Chess Puzzles: Day 3PogChamps 3 Chess Puzzles: Day 4PogChamps 3 Chess Puzzles: Day 5PogChamps 3 Chess Puzzles: Day 6PogChamps 3 Chess Puzzles: Day 7PogChamps 3 Chess Puzzles: Day 8PogChamps 3 Chess Puzzles: Day 9')]"
      ]
     },
     "execution_count": 41,
     "metadata": {},
     "output_type": "execute_result"
    }
   ],
   "source": [
    "results[\"context\"]"
   ]
  },
  {
   "cell_type": "code",
   "execution_count": 40,
   "id": "756a1334-5cba-471c-a6c4-3689aaf785d9",
   "metadata": {},
   "outputs": [
    {
     "data": {
      "text/plain": [
       "\"To determine the best move in the given chess position, let's analyze the board:\\n\\n```\\nr1bqkbnr\\npppp1ppp\\n2n5\\n4p3\\n4P3\\n5N2\\nPPPP1PPP\\nRNBQKB1R\\n```\\n\\nWhite to move and play:\\n\\n```\\nr1bqkbnr\\npppp1ppp\\n2n5\\n4p3\\n4P3\\n5N2\\nPPPP1PPP\\nRNBQKB1R\\n```\\n\\nHere is a step-by-step analysis:\\n\\n1. **Identify the key features**:\\n   - White has a passed pawn on `d5` that is supported by the knight on `c3`.\\n   - Black's king is in the center, which can be a weakness.\\n   - Black has a pawn on `c6` that can be attacked by the `d5` pawn.\\n\\n2. **Evaluate the pawn structure**:\\n   - White's pawn on `d5` is a strong passed pawn.\\n   - Black's pawn structure is somewhat passive, and the `c6` pawn is isolated.\\n\\n3. **Consider the immediate threats**:\\n   - The `d5` pawn can advance to `d4` and potentially create a strong pawn chain or push further to `d3` to create a passed pawn storm.\\n   - The knight on `c3` supports the `d5` pawn and can jump to `d5` if needed.\\n\\n4. **Plan**:\\n   - The best plan for White is to continue to advance the `d5` pawn to either `d4` or `d3`, exploiting the weak `c6` pawn and the exposed Black king.\\n\\nThe best move in this position is to advance the pawn on `d5` to `d4`, which puts pressure on the `c6` pawn and the Black king.\\n\\n**Best move in SAN format**:\\n\\n```\\nd5-d4\\n```\\n\\nSo, the best move is **`d4`**.\""
      ]
     },
     "execution_count": 40,
     "metadata": {},
     "output_type": "execute_result"
    }
   ],
   "source": [
    "results[\"answer\"]"
   ]
  },
  {
   "cell_type": "code",
   "execution_count": null,
   "id": "e721efa3-0d6b-4c87-887f-7f89e91d28d1",
   "metadata": {},
   "outputs": [],
   "source": []
  }
 ],
 "metadata": {
  "kernelspec": {
   "display_name": "Python (uv env)",
   "language": "python",
   "name": ".venv"
  },
  "language_info": {
   "codemirror_mode": {
    "name": "ipython",
    "version": 3
   },
   "file_extension": ".py",
   "mimetype": "text/x-python",
   "name": "python",
   "nbconvert_exporter": "python",
   "pygments_lexer": "ipython3",
   "version": "3.10.17"
  }
 },
 "nbformat": 4,
 "nbformat_minor": 5
}
