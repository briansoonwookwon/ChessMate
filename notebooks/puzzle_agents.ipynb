{
 "cells": [
  {
   "cell_type": "code",
   "execution_count": 11,
   "id": "826c5a52-dd03-4ee9-a73c-7d6f49e4836e",
   "metadata": {},
   "outputs": [],
   "source": [
    "import chess\n",
    "import chess.pgn\n",
    "import requests\n",
    "import io\n",
    "import json\n",
    "from langchain_core.tools import tool\n",
    "from langgraph.prebuilt import create_react_agent\n",
    "from langchain_core.messages import HumanMessage"
   ]
  },
  {
   "cell_type": "code",
   "execution_count": 12,
   "id": "99cc68dc-450d-4c13-b70a-801b1666609a",
   "metadata": {},
   "outputs": [],
   "source": [
    "%run ../bedrock_setup.py"
   ]
  },
  {
   "cell_type": "code",
   "execution_count": 13,
   "id": "6e5bc632-e1d2-4df6-b204-434822081587",
   "metadata": {},
   "outputs": [],
   "source": [
    "from langchain.chat_models import init_chat_model\n",
    "\n",
    "model = init_chat_model(\"us.amazon.nova-micro-v1:0\", # \"us.anthropic.claude-3-5-haiku-20241022-v1:0\"\n",
    "                        model_provider=\"bedrock_converse\",\n",
    "                        region_name=\"us-east-1\",\n",
    "                        client=bedrock_client)"
   ]
  },
  {
   "cell_type": "code",
   "execution_count": 47,
   "id": "76062f2b-8890-4abb-8da2-80e6c3aff9fb",
   "metadata": {},
   "outputs": [],
   "source": [
    "@tool\n",
    "def fetch_puzzle(query: str) -> dict:\n",
    "    \"\"\"\n",
    "    Get a random puzzle from chess.com in a json format.\n",
    "    \"\"\"\n",
    "    url = \"https://api.chess.com/pub/puzzle/random\"\n",
    "    headers = {'User-Agent': 'My Python App'}\n",
    "    response = requests.get(url, headers=headers).json()\n",
    "\n",
    "    return response\n",
    "\n",
    "@tool\n",
    "def get_info(response: dict) ->  dict:\n",
    "    \"\"\"\n",
    "    Get a FEN from the response on chess.com.\n",
    "    \"\"\"\n",
    "    pgn_io = io.StringIO(response['pgn'])\n",
    "    game = chess.pgn.read_game(pgn_io)\n",
    "\n",
    "    info = {\n",
    "        'title' : response['title'],\n",
    "        'fen' : response['fen'],\n",
    "        'answer' : str(game.mainline_moves())\n",
    "    }\n",
    "    \n",
    "    return info"
   ]
  },
  {
   "cell_type": "code",
   "execution_count": 48,
   "id": "4a854d53-4b45-4467-b8e3-f50126c0f081",
   "metadata": {},
   "outputs": [],
   "source": [
    "tools = [fetch_puzzle, get_info]"
   ]
  },
  {
   "cell_type": "code",
   "execution_count": 49,
   "id": "8ff76260-fa37-463e-a965-6e469bc22591",
   "metadata": {},
   "outputs": [],
   "source": [
    "prompt = \"\"\"\n",
    "You are an intelligent agent that helps users to get a chess puzzle.\n",
    "Follow these steps to answer user queries:\n",
    "1. Use the `fetch_puzzle` tool to request a puzzle using chess.com API.\n",
    "2. Use the `get_info` tool to retrieve relevant information of the puzzle.\n",
    "4. If you can't find enough information, state that explicitly.\n",
    "\n",
    "Never include explanations, steps, or any text besides the dictionary info or error message.\n",
    "Only provide a dictoinary from the get_info tool.\n",
    "\"\"\""
   ]
  },
  {
   "cell_type": "code",
   "execution_count": 50,
   "id": "af1dab66-4828-4a99-8f74-322c03ba6ed5",
   "metadata": {},
   "outputs": [],
   "source": [
    "agent_executor = create_react_agent(model, tools, prompt = prompt)"
   ]
  },
  {
   "cell_type": "code",
   "execution_count": 51,
   "id": "a09a9ff3-d450-4c35-a10c-ba5656f81f5a",
   "metadata": {},
   "outputs": [],
   "source": [
    "query = \"Get me a random chess puzzle from chess.com\"\n",
    "response = agent_executor.invoke({\"messages\": [HumanMessage(content=query)]})"
   ]
  },
  {
   "cell_type": "code",
   "execution_count": 52,
   "id": "576bd1d6-e6dd-4377-aff5-317064d6dac0",
   "metadata": {},
   "outputs": [
    {
     "data": {
      "text/plain": [
       "'{\\n  \"title\": \"Forced into a Box\",\\n  \"fen\": \"8/8/6N1/8/6p1/5Bpk/4K2b/7r w - - 0 1\",\\n  \"answer\": \"1. Bg2+ Kxg2 2. Nf4+ Kg1 3. Ke1 g2 4. Ne2#\"\\n}'"
      ]
     },
     "execution_count": 52,
     "metadata": {},
     "output_type": "execute_result"
    }
   ],
   "source": [
    "response[\"messages\"][-1].content"
   ]
  },
  {
   "cell_type": "code",
   "execution_count": null,
   "id": "6fa1dad3-5d9b-4d43-b721-ea6187bae9e0",
   "metadata": {},
   "outputs": [],
   "source": []
  }
 ],
 "metadata": {
  "kernelspec": {
   "display_name": "Python (uv env)",
   "language": "python",
   "name": ".venv"
  },
  "language_info": {
   "codemirror_mode": {
    "name": "ipython",
    "version": 3
   },
   "file_extension": ".py",
   "mimetype": "text/x-python",
   "name": "python",
   "nbconvert_exporter": "python",
   "pygments_lexer": "ipython3",
   "version": "3.10.16"
  }
 },
 "nbformat": 4,
 "nbformat_minor": 5
}
