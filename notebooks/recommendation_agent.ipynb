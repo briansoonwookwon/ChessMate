{
 "cells": [
  {
   "cell_type": "code",
   "execution_count": 1,
   "id": "645b1842-30c6-422b-b41e-08bb9f9aeec9",
   "metadata": {},
   "outputs": [],
   "source": [
    "import chess\n",
    "import chess.pgn\n",
    "import chess.engine\n",
    "import requests\n",
    "import io\n",
    "import json\n",
    "from langchain_core.tools import tool\n",
    "from langgraph.prebuilt import create_react_agent\n",
    "from langchain_core.messages import HumanMessage"
   ]
  },
  {
   "cell_type": "code",
   "execution_count": 2,
   "id": "412bf416-e4b1-4d69-864c-7d260f631967",
   "metadata": {},
   "outputs": [],
   "source": [
    "%run ../bedrock_setup.py"
   ]
  },
  {
   "cell_type": "code",
   "execution_count": 3,
   "id": "a99774c9-c84e-4666-b878-34e4753a5a94",
   "metadata": {},
   "outputs": [
    {
     "name": "stderr",
     "output_type": "stream",
     "text": [
      "/home/ec2-user/SageMaker/spring-2025-final-project-project-group-13/.venv/lib/python3.10/site-packages/tqdm/auto.py:21: TqdmWarning: IProgress not found. Please update jupyter and ipywidgets. See https://ipywidgets.readthedocs.io/en/stable/user_install.html\n",
      "  from .autonotebook import tqdm as notebook_tqdm\n",
      "Xet Storage is enabled for this repo, but the 'hf_xet' package is not installed. Falling back to regular HTTP download. For better performance, install the package with: `pip install huggingface_hub[hf_xet]` or `pip install hf_xet`\n"
     ]
    }
   ],
   "source": [
    "from langchain_huggingface import HuggingFaceEmbeddings\n",
    "from langchain_community.vectorstores import FAISS\n",
    "\n",
    "model_name = \"sentence-transformers/all-MiniLM-L6-v2\"\n",
    "model_kwargs = {\"device\": \"cpu\"}\n",
    "encode_kwargs = {\"normalize_embeddings\": True}\n",
    "embeddings_model = HuggingFaceEmbeddings(\n",
    "    model_name=model_name, model_kwargs=model_kwargs, encode_kwargs=encode_kwargs\n",
    ")"
   ]
  },
  {
   "cell_type": "code",
   "execution_count": 4,
   "id": "4691d5a7-f5e7-4d37-a46a-e1a338d08630",
   "metadata": {},
   "outputs": [],
   "source": [
    "from langchain.chat_models import init_chat_model\n",
    "\n",
    "model = init_chat_model(\"us.anthropic.claude-3-5-haiku-20241022-v1:0\",\n",
    "                        model_provider=\"bedrock_converse\",\n",
    "                        region_name=\"us-east-1\",\n",
    "                        client=bedrock_client)"
   ]
  },
  {
   "cell_type": "code",
   "execution_count": 18,
   "id": "49b7cd23-d896-4b67-93e8-64e650e6dcec",
   "metadata": {},
   "outputs": [],
   "source": [
    "hikaru_vs = FAISS.load_local(\"../database/Hikaru\", embeddings_model, allow_dangerous_deserialization=True)\n",
    "# carlsen_vs = FAISS.load_local(\"../database/MagnusCarlsen\", embeddings_model, allow_dangerous_deserialization=True)\n",
    "# fabiano_vs = FAISS.load_local(\"../database/FabianoCaruana\", embeddings_model, allow_dangerous_deserialization=True)\n",
    "# arjun_vs = FAISS.load_local(\"../database/GHANDEEVAM2003\", embeddings_model, allow_dangerous_deserialization=True)\n",
    "# gukesh_vs = FAISS.load_local(\"../database/GukeshDommaraju\", embeddings_model, allow_dangerous_deserialization=True)\n",
    "all_games = FAISS.load_local(\"../database/all_games\", embeddings_model, allow_dangerous_deserialization=True)"
   ]
  },
  {
   "cell_type": "code",
   "execution_count": 31,
   "id": "d028d0ad-d26d-41a0-95eb-5a83c7b1acae",
   "metadata": {},
   "outputs": [],
   "source": [
    "# fen = \"1bqkbnr/pppp1ppp/2n5/4p3/4P3/5N2/PPPP1PPP/RNBQKB1R w KQkq - 2 3\"\n",
    "fen = \"rnbq1rk1/ppp1bppp/3p1n2/8/2BP4/2N2N2/PPP2PPP/R1BQ1RK1 b - - 4 7\""
   ]
  },
  {
   "cell_type": "code",
   "execution_count": 37,
   "id": "8e510fd3-eae7-427b-a6c8-fa71ff7b00e8",
   "metadata": {},
   "outputs": [
    {
     "data": {
      "text/plain": [
       "8"
      ]
     },
     "execution_count": 37,
     "metadata": {},
     "output_type": "execute_result"
    }
   ],
   "source": [
    "len(all_games.similarity_search(fen, k=10, filter={\"black\": \"Hikaru\"}))\n",
    "\n",
    "# results = all_games.similarity_search(fen, k=100)\n",
    "# len([doc for doc in results if doc.metadata.get(\"black\") == \"Hikaru\"][:10])"
   ]
  },
  {
   "cell_type": "code",
   "execution_count": 33,
   "id": "e4a163aa-361a-4d83-aa34-5825a657f517",
   "metadata": {},
   "outputs": [
    {
     "data": {
      "text/plain": [
       "[Document(id='3f0d14da-e179-497b-b917-349e7c2be358', metadata={'date': '2018.10.12', 'white': 'DanielNaroditsky', 'whiteElo': '2976', 'black': 'Hikaru', 'blackElo': '3017', 'result': '0-1', 'termination': 'Hikaru won by resignation', 'url': 'https://www.chess.com/game/live/3138388410', 'move': 'Nc6', 'fen': 'rnbq1rk1/ppp2pbp/3p1np1/4p3/2PPP3/2N2N2/PP2BPPP/R1BQ1RK1 b - - 1 7'}, page_content='rnbq1rk1/ppp2pbp/3p1np1/4p3/2PPP3/2N2N2/PP2BPPP/R1BQ1RK1 b - - 1 7'),\n",
       " Document(id='2a42ff3b-bcee-46e6-a016-30f8e6a44090', metadata={'date': '2015.11.21', 'white': 'Noukii', 'whiteElo': '2669', 'black': 'Hikaru', 'blackElo': '3074', 'result': '0-1', 'termination': 'Hikaru won by resignation', 'url': 'https://www.chess.com/game/live/1358368220', 'move': 'Nc6', 'fen': 'rnbq1rk1/ppp2pbp/3p1np1/4p3/2PPP3/2N2N2/PP2BPPP/R1BQ1RK1 b - - 1 7'}, page_content='rnbq1rk1/ppp2pbp/3p1np1/4p3/2PPP3/2N2N2/PP2BPPP/R1BQ1RK1 b - - 1 7'),\n",
       " Document(id='3425c35f-2a23-4c62-a74a-54925154aa39', metadata={'date': '2024.07.05', 'white': 'AlphaOdin', 'whiteElo': '2974', 'black': 'Hikaru', 'blackElo': '3252', 'result': '0-1', 'termination': 'Hikaru won by resignation', 'url': 'https://www.chess.com/game/live/113940639505', 'move': 'Nc6', 'fen': 'rnbq1rk1/ppp2pbp/3p1np1/4p3/2PPP3/2N2N2/PP2BPPP/R1BQ1RK1 b - - 1 7'}, page_content='rnbq1rk1/ppp2pbp/3p1np1/4p3/2PPP3/2N2N2/PP2BPPP/R1BQ1RK1 b - - 1 7'),\n",
       " Document(id='c0786cff-631f-4df4-beaf-1be4fba1bf67', metadata={'date': '2021.12.01', 'white': 'amintabatabaei', 'whiteElo': '2968', 'black': 'Hikaru', 'blackElo': '3216', 'result': '0-1', 'termination': 'Hikaru won by resignation', 'url': 'https://www.chess.com/game/live/32118005939', 'move': 'Nc6', 'fen': 'rnbq1rk1/ppp2pbp/3p1np1/4p3/2PPP3/2N2N2/PP2BPPP/R1BQ1RK1 b - - 1 7'}, page_content='rnbq1rk1/ppp2pbp/3p1np1/4p3/2PPP3/2N2N2/PP2BPPP/R1BQ1RK1 b - - 1 7'),\n",
       " Document(id='cad77b95-d648-4154-a283-577aa7a5fddf', metadata={'date': '2021.06.11', 'white': 'BrandonJacobson', 'whiteElo': '3140', 'black': 'Hikaru', 'blackElo': '3371', 'result': '0-1', 'termination': 'Hikaru won by resignation', 'url': 'https://www.chess.com/game/live/17175727259', 'move': 'Nc6', 'fen': 'rnbq1rk1/ppp2pbp/3p1np1/4p3/2PPP3/2N2N2/PP2BPPP/R1BQ1RK1 b - - 1 7'}, page_content='rnbq1rk1/ppp2pbp/3p1np1/4p3/2PPP3/2N2N2/PP2BPPP/R1BQ1RK1 b - - 1 7'),\n",
       " Document(id='0013f1f1-18e0-4743-b7ce-4d74c0fd46b2', metadata={'date': '2018.11.22', 'white': 'Shant_Sargsyan', 'whiteElo': '3003', 'black': 'Hikaru', 'blackElo': '3160', 'result': '1-0', 'termination': 'Shant_Sargsyan won by resignation', 'url': 'https://www.chess.com/game/live/3237214768', 'move': 'exd4', 'fen': 'rnbq1rk1/ppp2pbp/3p1np1/4p3/2PPP3/2N2N2/PP2BPPP/R1BQ1RK1 b - - 1 7'}, page_content='rnbq1rk1/ppp2pbp/3p1np1/4p3/2PPP3/2N2N2/PP2BPPP/R1BQ1RK1 b - - 1 7'),\n",
       " Document(id='30e9cce9-4c99-4212-9274-1d1da670cb31', metadata={'date': '2015.01.08', 'white': 'Nouki', 'whiteElo': '2649', 'black': 'Hikaru', 'blackElo': '3053', 'result': '0-1', 'termination': 'Hikaru won by resignation', 'url': 'https://www.chess.com/game/live/1022727658', 'move': 'Nc6', 'fen': 'rnbq1rk1/ppp2pbp/3p1np1/4p3/2PPP3/2N2N2/PP2BPPP/R1BQ1RK1 b - - 1 7'}, page_content='rnbq1rk1/ppp2pbp/3p1np1/4p3/2PPP3/2N2N2/PP2BPPP/R1BQ1RK1 b - - 1 7'),\n",
       " Document(id='c8b08b43-2c95-4581-97ad-35116a376d81', metadata={'date': '2017.03.14', 'white': 'DanielNaroditsky', 'whiteElo': '2787', 'black': 'Hikaru', 'blackElo': '2928', 'result': '0-1', 'termination': 'Hikaru won by resignation', 'url': 'https://www.chess.com/game/live/1996518315', 'move': 'Nc6', 'fen': 'rnbq1rk1/ppp2pbp/3p1np1/4p3/2PPP3/2N2N2/PP2BPPP/R1BQ1RK1 b - - 1 7'}, page_content='rnbq1rk1/ppp2pbp/3p1np1/4p3/2PPP3/2N2N2/PP2BPPP/R1BQ1RK1 b - - 1 7'),\n",
       " Document(id='95a37b4c-54bd-4b49-9ee3-326fd8573c74', metadata={'date': '2018.07.04', 'white': 'DanielNaroditsky', 'whiteElo': '2888', 'black': 'Hikaru', 'blackElo': '3016', 'result': '0-1', 'termination': 'Hikaru won by resignation', 'url': 'https://www.chess.com/game/live/2919691637', 'move': 'Nc6', 'fen': 'rnbq1rk1/ppp1bppp/4pn2/8/2pP4/2N2NP1/PP2PPBP/R1BQ1RK1 b - - 3 7'}, page_content='rnbq1rk1/ppp1bppp/4pn2/8/2pP4/2N2NP1/PP2PPBP/R1BQ1RK1 b - - 3 7'),\n",
       " Document(id='cb1ccf8c-8958-4602-9b8c-5dfb00c558f5', metadata={'date': '2021.11.23', 'white': 'yavrukurt40', 'whiteElo': '2939', 'black': 'Hikaru', 'blackElo': '3187', 'result': '1-0', 'termination': 'yavrukurt40 won by resignation', 'url': 'https://www.chess.com/game/live/31443004467', 'move': 'c6', 'fen': 'rnbq1rk1/ppp1ppbp/1n4p1/8/3P4/2N1PN2/PP2BPPP/R1BQ1RK1 b - - 5 8'}, page_content='rnbq1rk1/ppp1ppbp/1n4p1/8/3P4/2N1PN2/PP2BPPP/R1BQ1RK1 b - - 5 8')]"
      ]
     },
     "execution_count": 33,
     "metadata": {},
     "output_type": "execute_result"
    }
   ],
   "source": [
    "hikaru_vs.similarity_search(fen, k=10)"
   ]
  },
  {
   "cell_type": "code",
   "execution_count": null,
   "id": "f414841c-1403-467b-81ba-0126ab7500fb",
   "metadata": {},
   "outputs": [],
   "source": []
  },
  {
   "cell_type": "code",
   "execution_count": null,
   "id": "4a2c18b4-a49b-4e6f-955c-3ef7702000fa",
   "metadata": {},
   "outputs": [],
   "source": []
  },
  {
   "cell_type": "code",
   "execution_count": 11,
   "id": "28ecb99f-b2e6-4287-992b-4eb3d60fe209",
   "metadata": {},
   "outputs": [],
   "source": [
    "engine = chess.engine.SimpleEngine.popen_uci(\"../Stockfish/src/stockfish\")"
   ]
  },
  {
   "cell_type": "code",
   "execution_count": 59,
   "id": "440ab31e-a787-4a51-9d2a-00b9b8c9a823",
   "metadata": {},
   "outputs": [],
   "source": [
    "@tool\n",
    "def extract_fen(query: str) -> str:\n",
    "    \"\"\"Extract FEN notation from the user query\"\"\"\n",
    "    import re\n",
    "    # Look for a pattern that resembles FEN notation\n",
    "    fen_pattern = r'[rnbqkpRNBQKP1-8]+/[rnbqkpRNBQKP1-8]+/[rnbqkpRNBQKP1-8]+/[rnbqkpRNBQKP1-8]+/[rnbqkpRNBQKP1-8]+/[rnbqkpRNBQKP1-8]+/[rnbqkpRNBQKP1-8]+/[rnbqkpRNBQKP1-8]+ [wb] [KQkq-]+ [a-h1-8-]+ \\d+ \\d+'\n",
    "    match = re.search(fen_pattern, query)\n",
    "    if match:\n",
    "        return match.group(0)\n",
    "    return \"No FEN notation found in query\"\n",
    "\n",
    "@tool\n",
    "def is_gradmaster_specific(query: str) -> str:\n",
    "    \"\"\"Get grandmaster name from the query\"\"\"\n",
    "    import re\n",
    "    pattern = r'carlsen|hikaru|gukesh|arjun|fabiano'\n",
    "    match = re.search(pattern, str.lower(query))\n",
    "    if match:\n",
    "        return match.group(0)\n",
    "    else:\n",
    "        return \"None\"\n",
    "\n",
    "@tool\n",
    "def query_knowledge_base(name:str, fen: str) -> set:\n",
    "    \"\"\"Get relevant documents on a relevant vectorstore based on FEN from the query\"\"\"\n",
    "    if name != \"None\":\n",
    "        docs = all_games.similarity_search(fen, k=10)\n",
    "        \n",
    "    elif name == 'carlsen':\n",
    "        docs = carlsen_vs.similarity_search(fen, k=10)\n",
    "    elif name == 'hikaru':\n",
    "        docs = hikaru_vs.similarity_search(fen, k=10)\n",
    "    elif name == 'fabiano':\n",
    "        docs = fabiano_vs.similarity_search(fen, k=10)\n",
    "    elif name == 'gukesh':\n",
    "        docs = gukesh_vs.similarity_search(fen, k=10)\n",
    "    elif name == 'arjun':\n",
    "        docs = arjun_vs.similarity_search(fen, k=10)\n",
    "        \n",
    "    return list(set([doc.metadata['move'] for doc in docs]))\n",
    "\n",
    "@tool\n",
    "def evaluate_move(fen: str, move:str) -> int:\n",
    "    \"\"\"\n",
    "    Calculate a centipawn score using Stockfish\n",
    "    \"\"\"\n",
    "    board = chess.Board(fen)    \n",
    "    board.push_san(move)\n",
    "    score = engine.analyse(board, chess.engine.Limit(depth=15))[\"score\"].relative.score()\n",
    "    return score\n",
    "    \n",
    "@tool\n",
    "def recommend_move(fen:str, content:str, moves: list, scores:list) -> str:\n",
    "    \"\"\"\n",
    "    Recommend a move based on the list of PGN of chess games and FEN\n",
    "    \"\"\"\n",
    "    recommened_move = model.invoke(f\"Recommend a move based on the FEN using content from the vectorstore\")\n",
    "    return recommend_move\n",
    "    \n",
    "@tool\n",
    "def validate_move(fen:str, move:str) -> bool:\n",
    "    \"\"\"\n",
    "    Validate whether the recommended move is legal or not on a current chess board state.\n",
    "    \"\"\"\n",
    "    board = chess.Board(fen)\n",
    "    try:\n",
    "        board.push_san(move)\n",
    "        return True\n",
    "    except:\n",
    "        return False"
   ]
  },
  {
   "cell_type": "code",
   "execution_count": 34,
   "id": "57dc8223-33cc-4905-a981-d587e1c198d0",
   "metadata": {
    "collapsed": true,
    "jupyter": {
     "outputs_hidden": true,
     "source_hidden": true
    }
   },
   "outputs": [
    {
     "name": "stdout",
     "output_type": "stream",
     "text": [
      "Nf6\n",
      "-132\n",
      "Bc5\n",
      "15\n",
      "Bc5\n",
      "14\n",
      "Bc5\n",
      "16\n",
      "Nf6\n",
      "17\n",
      "Bc5\n",
      "17\n",
      "Nf6\n",
      "15\n",
      "Bc5\n",
      "13\n",
      "Bc5\n",
      "16\n",
      "f6\n",
      "171\n",
      "Nf6\n"
     ]
    }
   ],
   "source": [
    "fen = \"r1bqkbnr/pppp1ppp/2n5/4p3/4P3/5N2/PPPP1PPP/RNBQKB1R B KQkq - 2 3?\"\n",
    "docs = hikaru_vs.similarity_search(fen, k=10)\n",
    "\n",
    "best_score = 0\n",
    "for doc in docs:\n",
    "    board = chess.Board(doc.metadata[\"fen\"])\n",
    "    board.push_san(doc.metadata[\"move\"])\n",
    "    \n",
    "    score = engine.analyse(board, chess.engine.Limit(depth=15))[\"score\"].relative.score()\n",
    "    print(doc.metadata[\"move\"])\n",
    "    print(score)\n",
    "    \n",
    "    if score < best_score:\n",
    "        best_score = score\n",
    "        best_move = doc.metadata[\"move\"]\n",
    "        \n",
    "print(best_move)"
   ]
  },
  {
   "cell_type": "code",
   "execution_count": 60,
   "id": "332a64ac-7428-4b82-a910-e0f97d76a8cc",
   "metadata": {},
   "outputs": [],
   "source": [
    "tools = [extract_fen, is_gradmaster_specific, query_knowledge_base, evaluate_move, recommend_move, validate_move]"
   ]
  },
  {
   "cell_type": "code",
   "execution_count": 61,
   "id": "b9ec658f-6f04-43bd-a911-34b0435ae493",
   "metadata": {},
   "outputs": [],
   "source": [
    "prompt = \"\"\"\n",
    "You are an intelligent agent that recommend chess moves to users.\n",
    "Follow these steps to answer user queries:\n",
    "1. Use the `extract_fen` tool to extract FEN from the user query.\n",
    "2. Use the `is_gradmaster_specific` tool to decide whether the user query is gradmaster specific or not.\n",
    "3. Use the `query_knowledge_base` tool to retrieve relevant documents from proper vectorstores.\n",
    "4. Use the `evaluate_move` tool to calculate the centipawn score of the move.\n",
    "5. Use the `recommend_move` tool to recommend moves based on the FEN using relevant documents.\n",
    "6. Use the 'validate_move' tool to make sure the recommended move is valid on the current board state.\n",
    "7. If you can't find enough information, state that explicitly.\n",
    "\n",
    "Use a step-by-step approach to complete each query.\n",
    "\"\"\""
   ]
  },
  {
   "cell_type": "code",
   "execution_count": 62,
   "id": "1c76234c-2565-44c9-9b53-a487c235cec4",
   "metadata": {},
   "outputs": [],
   "source": [
    "agent_executor = create_react_agent(model, tools, prompt = prompt)"
   ]
  },
  {
   "cell_type": "code",
   "execution_count": 65,
   "id": "5c35669a-2fc6-44a8-bafb-962074d26266",
   "metadata": {},
   "outputs": [],
   "source": [
    "query = \"What would I do in this position: r1bqkbnr/pppp1ppp/2n5/4p3/4P3/5N2/PPPP1PPP/RNBQKB1R w KQkq - 2 3?\"\n",
    "response = agent_executor.invoke({\"messages\": [HumanMessage(content=query)]})"
   ]
  },
  {
   "cell_type": "code",
   "execution_count": 66,
   "id": "36644007-4123-4f54-8bc1-1cb127418368",
   "metadata": {},
   "outputs": [
    {
     "data": {
      "text/plain": [
       "{'messages': [HumanMessage(content='What would I do in this position: r1bqkbnr/pppp1ppp/2n5/4p3/4P3/5N2/PPPP1PPP/RNBQKB1R w KQkq - 2 3?', additional_kwargs={}, response_metadata={}, id='e18dd3fe-005f-44b3-b582-5c8b74caaad7'),\n",
       "  AIMessage(content=[{'type': 'text', 'text': \"I'll help you analyze this chess position step by step:\\n\\n1. First, I'll extract the FEN notation (which is already provided in the query):\\nr1bqkbnr/pppp1ppp/2n5/4p3/4P3/5N2/PPPP1PPP/RNBQKB1R w KQkq - 2 3\\n\\n2. Let's check if this is a grandmaster-specific query:\"}, {'type': 'tool_use', 'name': 'is_gradmaster_specific', 'input': {'query': 'r1bqkbnr/pppp1ppp/2n5/4p3/4P3/5N2/PPPP1PPP/RNBQKB1R w KQkq - 2 3'}, 'id': 'tooluse__oCoXTczQ3mxQ2zc8Lfo9Q'}], additional_kwargs={}, response_metadata={'ResponseMetadata': {'RequestId': 'c6f0f554-41ec-4f46-bafd-d185b85b8129', 'HTTPStatusCode': 200, 'HTTPHeaders': {'date': 'Tue, 22 Apr 2025 02:31:43 GMT', 'content-type': 'application/json', 'content-length': '737', 'connection': 'keep-alive', 'x-amzn-requestid': 'c6f0f554-41ec-4f46-bafd-d185b85b8129'}, 'RetryAttempts': 0}, 'stopReason': 'tool_use', 'metrics': {'latencyMs': [3133]}}, id='run-270df8ea-679a-48c7-87f9-7cac8982c50f-0', tool_calls=[{'name': 'is_gradmaster_specific', 'args': {'query': 'r1bqkbnr/pppp1ppp/2n5/4p3/4P3/5N2/PPPP1PPP/RNBQKB1R w KQkq - 2 3'}, 'id': 'tooluse__oCoXTczQ3mxQ2zc8Lfo9Q', 'type': 'tool_call'}], usage_metadata={'input_tokens': 993, 'output_tokens': 218, 'total_tokens': 1211}),\n",
       "  ToolMessage(content='None', name='is_gradmaster_specific', id='b5c45a82-d1ef-4b23-b71d-82bb5c39bbce', tool_call_id='tooluse__oCoXTczQ3mxQ2zc8Lfo9Q'),\n",
       "  AIMessage(content=[{'type': 'text', 'text': \"3. I'll query the knowledge base for relevant information:\"}, {'type': 'tool_use', 'name': 'query_knowledge_base', 'input': {'name': 'chess', 'fen': 'r1bqkbnr/pppp1ppp/2n5/4p3/4P3/5N2/PPPP1PPP/RNBQKB1R w KQkq - 2 3'}, 'id': 'tooluse_4hzUJKOjSNm1mWUyJPCcaw'}], additional_kwargs={}, response_metadata={'ResponseMetadata': {'RequestId': 'f07f01c5-57fd-4c41-b5ea-774c570cf0ca', 'HTTPStatusCode': 200, 'HTTPHeaders': {'date': 'Tue, 22 Apr 2025 02:31:45 GMT', 'content-type': 'application/json', 'content-length': '542', 'connection': 'keep-alive', 'x-amzn-requestid': 'f07f01c5-57fd-4c41-b5ea-774c570cf0ca'}, 'RetryAttempts': 0}, 'stopReason': 'tool_use', 'metrics': {'latencyMs': [2132]}}, id='run-c5cafeff-4831-42c2-ab5b-c8df9f2a4b7c-0', tool_calls=[{'name': 'query_knowledge_base', 'args': {'name': 'chess', 'fen': 'r1bqkbnr/pppp1ppp/2n5/4p3/4P3/5N2/PPPP1PPP/RNBQKB1R w KQkq - 2 3'}, 'id': 'tooluse_4hzUJKOjSNm1mWUyJPCcaw', 'type': 'tool_call'}], usage_metadata={'input_tokens': 1223, 'output_tokens': 142, 'total_tokens': 1365}),\n",
       "  ToolMessage(content='[\"Bb5\", \"Bc4\", \"Nc3\"]', name='query_knowledge_base', id='1987a774-f933-421f-a5ef-357fbe0525d6', tool_call_id='tooluse_4hzUJKOjSNm1mWUyJPCcaw'),\n",
       "  AIMessage(content=[{'type': 'text', 'text': \"4. Now, I'll evaluate these potential moves:\"}, {'type': 'tool_use', 'name': 'evaluate_move', 'input': {'fen': 'r1bqkbnr/pppp1ppp/2n5/4p3/4P3/5N2/PPPP1PPP/RNBQKB1R w KQkq - 2 3', 'move': 'Bb5'}, 'id': 'tooluse_AxV6ZVeYRmqOiZlRdkK38g'}], additional_kwargs={}, response_metadata={'ResponseMetadata': {'RequestId': 'bb0d0a78-8fae-4a23-b59d-2674138a5efa', 'HTTPStatusCode': 200, 'HTTPHeaders': {'date': 'Tue, 22 Apr 2025 02:31:47 GMT', 'content-type': 'application/json', 'content-length': '519', 'connection': 'keep-alive', 'x-amzn-requestid': 'bb0d0a78-8fae-4a23-b59d-2674138a5efa'}, 'RetryAttempts': 0}, 'stopReason': 'tool_use', 'metrics': {'latencyMs': [1957]}}, id='run-f82898ce-17ac-498f-b68b-b6705a1b00b8-0', tool_calls=[{'name': 'evaluate_move', 'args': {'fen': 'r1bqkbnr/pppp1ppp/2n5/4p3/4P3/5N2/PPPP1PPP/RNBQKB1R w KQkq - 2 3', 'move': 'Bb5'}, 'id': 'tooluse_AxV6ZVeYRmqOiZlRdkK38g', 'type': 'tool_call'}], usage_metadata={'input_tokens': 1391, 'output_tokens': 141, 'total_tokens': 1532}),\n",
       "  ToolMessage(content='-23', name='evaluate_move', id='4e7b19e8-3e9d-4211-bb30-a461bbbd14b5', tool_call_id='tooluse_AxV6ZVeYRmqOiZlRdkK38g'),\n",
       "  AIMessage(content=[{'type': 'tool_use', 'name': 'evaluate_move', 'input': {'fen': 'r1bqkbnr/pppp1ppp/2n5/4p3/4P3/5N2/PPPP1PPP/RNBQKB1R w KQkq - 2 3', 'move': 'Bc4'}, 'id': 'tooluse_DGxIZ1DbR3SquKR3DJZ4nA'}], additional_kwargs={}, response_metadata={'ResponseMetadata': {'RequestId': '4ae99e8a-7d40-4aca-8a0e-db73ad39bf6e', 'HTTPStatusCode': 200, 'HTTPHeaders': {'date': 'Tue, 22 Apr 2025 02:31:49 GMT', 'content-type': 'application/json', 'content-length': '353', 'connection': 'keep-alive', 'x-amzn-requestid': '4ae99e8a-7d40-4aca-8a0e-db73ad39bf6e'}, 'RetryAttempts': 0}, 'stopReason': 'tool_use', 'metrics': {'latencyMs': [1876]}}, id='run-b4dff490-9a9e-4ce6-940a-2efade000d99-0', tool_calls=[{'name': 'evaluate_move', 'args': {'fen': 'r1bqkbnr/pppp1ppp/2n5/4p3/4P3/5N2/PPPP1PPP/RNBQKB1R w KQkq - 2 3', 'move': 'Bc4'}, 'id': 'tooluse_DGxIZ1DbR3SquKR3DJZ4nA', 'type': 'tool_call'}], usage_metadata={'input_tokens': 1545, 'output_tokens': 129, 'total_tokens': 1674}),\n",
       "  ToolMessage(content='-19', name='evaluate_move', id='b371a992-4f1d-4597-9e01-d8f1dd7e3f23', tool_call_id='tooluse_DGxIZ1DbR3SquKR3DJZ4nA'),\n",
       "  AIMessage(content=[{'type': 'tool_use', 'name': 'evaluate_move', 'input': {'fen': 'r1bqkbnr/pppp1ppp/2n5/4p3/4P3/5N2/PPPP1PPP/RNBQKB1R w KQkq - 2 3', 'move': 'Nc3'}, 'id': 'tooluse_OrjstYBMRUmOOTF8iMMMJQ'}], additional_kwargs={}, response_metadata={'ResponseMetadata': {'RequestId': 'add29c14-45db-4ac3-8b06-90d06ab5feeb', 'HTTPStatusCode': 200, 'HTTPHeaders': {'date': 'Tue, 22 Apr 2025 02:31:51 GMT', 'content-type': 'application/json', 'content-length': '463', 'connection': 'keep-alive', 'x-amzn-requestid': 'add29c14-45db-4ac3-8b06-90d06ab5feeb'}, 'RetryAttempts': 0}, 'stopReason': 'tool_use', 'metrics': {'latencyMs': [1884]}}, id='run-f2501a24-05af-4a0b-87ea-1e625a3ba8ad-0', tool_calls=[{'name': 'evaluate_move', 'args': {'fen': 'r1bqkbnr/pppp1ppp/2n5/4p3/4P3/5N2/PPPP1PPP/RNBQKB1R w KQkq - 2 3', 'move': 'Nc3'}, 'id': 'tooluse_OrjstYBMRUmOOTF8iMMMJQ', 'type': 'tool_call'}], usage_metadata={'input_tokens': 1687, 'output_tokens': 129, 'total_tokens': 1816}),\n",
       "  ToolMessage(content='-18', name='evaluate_move', id='cd767699-b592-4935-bb1f-71c2714595a8', tool_call_id='tooluse_OrjstYBMRUmOOTF8iMMMJQ'),\n",
       "  AIMessage(content=[{'type': 'text', 'text': \"5. I'll use the recommend_move tool to get the best recommendation:\"}, {'type': 'tool_use', 'name': 'recommend_move', 'input': {'fen': 'r1bqkbnr/pppp1ppp/2n5/4p3/4P3/5N2/PPPP1PPP/RNBQKB1R w KQkq - 2 3', 'content': 'Typical Ruy Lopez opening position', 'moves': ['Bb5', 'Bc4', 'Nc3'], 'scores': ['-23', '-19', '-18']}, 'id': 'tooluse_DHlRi4B_TkGBg5b6gb35TA'}], additional_kwargs={}, response_metadata={'ResponseMetadata': {'RequestId': 'f0610140-d2a3-470d-a45a-5bf34927cace', 'HTTPStatusCode': 200, 'HTTPHeaders': {'date': 'Tue, 22 Apr 2025 02:31:54 GMT', 'content-type': 'application/json', 'content-length': '634', 'connection': 'keep-alive', 'x-amzn-requestid': 'f0610140-d2a3-470d-a45a-5bf34927cace'}, 'RetryAttempts': 0}, 'stopReason': 'tool_use', 'metrics': {'latencyMs': [2811]}}, id='run-83358c29-3437-48cb-b6a7-95cc5d6b19c9-0', tool_calls=[{'name': 'recommend_move', 'args': {'fen': 'r1bqkbnr/pppp1ppp/2n5/4p3/4P3/5N2/PPPP1PPP/RNBQKB1R w KQkq - 2 3', 'content': 'Typical Ruy Lopez opening position', 'moves': ['Bb5', 'Bc4', 'Nc3'], 'scores': ['-23', '-19', '-18']}, 'id': 'tooluse_DHlRi4B_TkGBg5b6gb35TA', 'type': 'tool_call'}], usage_metadata={'input_tokens': 1829, 'output_tokens': 208, 'total_tokens': 2037}),\n",
       "  ToolMessage(content=\"name='recommend_move' description='Recommend a move based on the list of PGN of chess games and FEN' args_schema=<class 'langchain_core.utils.pydantic.recommend_move'> func=<function recommend_move at 0x7f3955d7e7a0>\", name='recommend_move', id='5e41dfa1-94aa-4994-a557-c04ceb5cff6c', tool_call_id='tooluse_DHlRi4B_TkGBg5b6gb35TA'),\n",
       "  AIMessage(content=[{'type': 'text', 'text': \"6. Finally, I'll validate the recommended move:\"}, {'type': 'tool_use', 'name': 'validate_move', 'input': {'fen': 'r1bqkbnr/pppp1ppp/2n5/4p3/4P3/5N2/PPPP1PPP/RNBQKB1R w KQkq - 2 3', 'move': 'Nc3'}, 'id': 'tooluse__hH4DxpgQp2Tzmyy2-rXXA'}], additional_kwargs={}, response_metadata={'ResponseMetadata': {'RequestId': '0a67b3cb-bc45-4df5-8fea-25024be61027', 'HTTPStatusCode': 200, 'HTTPHeaders': {'date': 'Tue, 22 Apr 2025 02:31:58 GMT', 'content-type': 'application/json', 'content-length': '522', 'connection': 'keep-alive', 'x-amzn-requestid': '0a67b3cb-bc45-4df5-8fea-25024be61027'}, 'RetryAttempts': 0}, 'stopReason': 'tool_use', 'metrics': {'latencyMs': [2227]}}, id='run-1fd5a194-58e7-47af-812c-c6ee6a3f2e74-0', tool_calls=[{'name': 'validate_move', 'args': {'fen': 'r1bqkbnr/pppp1ppp/2n5/4p3/4P3/5N2/PPPP1PPP/RNBQKB1R w KQkq - 2 3', 'move': 'Nc3'}, 'id': 'tooluse__hH4DxpgQp2Tzmyy2-rXXA', 'type': 'tool_call'}], usage_metadata={'input_tokens': 2120, 'output_tokens': 141, 'total_tokens': 2261}),\n",
       "  ToolMessage(content='true', name='validate_move', id='95fd4281-6fce-449c-ba24-ebe7732b9bbf', tool_call_id='tooluse__hH4DxpgQp2Tzmyy2-rXXA'),\n",
       "  AIMessage(content='Based on the analysis, I recommend playing Nc3. This move:\\n1. Develops another piece (the knight)\\n2. Controls the center\\n3. Prepares for potential kingside castling\\n4. Has the best evaluation score among the considered moves\\n\\nThe position looks like an early stage of the Ruy Lopez or Spanish Opening, where White is developing pieces and preparing to contest the center. The move Nc3 supports the e4 pawn and adds pressure to the center of the board.\\n\\nThe move is perfectly legal and follows good opening principles of piece development and central control.', additional_kwargs={}, response_metadata={'ResponseMetadata': {'RequestId': '46ab70f1-2f71-4aea-b0d9-bff1e150cf31', 'HTTPStatusCode': 200, 'HTTPHeaders': {'date': 'Tue, 22 Apr 2025 02:32:01 GMT', 'content-type': 'application/json', 'content-length': '863', 'connection': 'keep-alive', 'x-amzn-requestid': '46ab70f1-2f71-4aea-b0d9-bff1e150cf31'}, 'RetryAttempts': 0}, 'stopReason': 'end_turn', 'metrics': {'latencyMs': [2982]}}, id='run-4e3eb752-8054-4d2a-b635-d3458dbce328-0', usage_metadata={'input_tokens': 2273, 'output_tokens': 131, 'total_tokens': 2404})]}"
      ]
     },
     "execution_count": 66,
     "metadata": {},
     "output_type": "execute_result"
    }
   ],
   "source": [
    "response"
   ]
  },
  {
   "cell_type": "code",
   "execution_count": 67,
   "id": "54358dda-50a7-414b-a322-427d4c26aea8",
   "metadata": {},
   "outputs": [
    {
     "data": {
      "text/plain": [
       "'Based on the analysis, I recommend playing Nc3. This move:\\n1. Develops another piece (the knight)\\n2. Controls the center\\n3. Prepares for potential kingside castling\\n4. Has the best evaluation score among the considered moves\\n\\nThe position looks like an early stage of the Ruy Lopez or Spanish Opening, where White is developing pieces and preparing to contest the center. The move Nc3 supports the e4 pawn and adds pressure to the center of the board.\\n\\nThe move is perfectly legal and follows good opening principles of piece development and central control.'"
      ]
     },
     "execution_count": 67,
     "metadata": {},
     "output_type": "execute_result"
    }
   ],
   "source": [
    "response[\"messages\"][-1].content"
   ]
  },
  {
   "cell_type": "code",
   "execution_count": 68,
   "id": "459312b7-d66c-4083-a764-4e87dd4bd1c8",
   "metadata": {},
   "outputs": [
    {
     "name": "stdout",
     "output_type": "stream",
     "text": [
      "Move Nc3 is valid.\n"
     ]
    }
   ],
   "source": [
    "fen = 'r1bqkbnr/pppp1ppp/2n5/4p3/4P3/5N2/PPPP1PPP/RNBQKB1R w KQkq - 2 3'\n",
    "\n",
    "board = chess.Board(fen)\n",
    "\n",
    "move_san = \"Nc3\"  # Example move\n",
    "\n",
    "# Check if the move is legal\n",
    "try:\n",
    "    # Try pushing the move\n",
    "    move = board.push_san(move_san)\n",
    "    print(f\"Move {move_san} is valid.\")\n",
    "except ValueError as e:\n",
    "    print(f\"Move {move_san} is not valid: {e}\")"
   ]
  },
  {
   "cell_type": "code",
   "execution_count": null,
   "id": "2e90e1fa-6038-424d-84a1-8dc8200cbbc3",
   "metadata": {},
   "outputs": [],
   "source": []
  }
 ],
 "metadata": {
  "kernelspec": {
   "display_name": "Python (uv env)",
   "language": "python",
   "name": ".venv"
  },
  "language_info": {
   "codemirror_mode": {
    "name": "ipython",
    "version": 3
   },
   "file_extension": ".py",
   "mimetype": "text/x-python",
   "name": "python",
   "nbconvert_exporter": "python",
   "pygments_lexer": "ipython3",
   "version": "3.10.17"
  }
 },
 "nbformat": 4,
 "nbformat_minor": 5
}
